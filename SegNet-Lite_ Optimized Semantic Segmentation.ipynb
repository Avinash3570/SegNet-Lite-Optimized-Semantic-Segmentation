{
  "nbformat": 4,
  "nbformat_minor": 0,
  "metadata": {
    "colab": {
      "provenance": [],
      "gpuType": "T4"
    },
    "kernelspec": {
      "name": "python3",
      "display_name": "Python 3"
    },
    "language_info": {
      "name": "python"
    },
    "accelerator": "GPU"
  },
  "cells": [
    {
      "cell_type": "code",
      "execution_count": null,
      "metadata": {
        "id": "_YG1EPrK4uFu"
      },
      "outputs": [],
      "source": [
        "import torch\n",
        "import torch.nn as nn\n",
        "import torch.optim as optim\n",
        "from torch.utils.data import DataLoader, Dataset\n",
        "from torchvision import transforms, models\n",
        "from torchvision.transforms import RandomHorizontalFlip, RandomRotation\n",
        "from torchvision.datasets import VOCSegmentation\n",
        "import matplotlib.pyplot as plt\n",
        "import numpy as np\n",
        "from PIL import Image\n",
        "from sklearn.metrics import precision_recall_fscore_support, jaccard_score\n",
        "from tqdm import tqdm\n",
        "from sklearn.metrics import f1_score"
      ]
    },
    {
      "cell_type": "code",
      "execution_count": null,
      "metadata": {
        "id": "Uio5ys8Pw4so"
      },
      "outputs": [],
      "source": [
        "transform = transforms.Compose([\n",
        "    transforms.Resize((224, 224)),\n",
        "    RandomHorizontalFlip(p=0.5),\n",
        "    RandomRotation(degrees=15),\n",
        "    transforms.ToTensor(),\n",
        "    transforms.Normalize(mean=[0.485, 0.456, 0.406], std=[0.229, 0.224, 0.225]),\n",
        "])"
      ]
    },
    {
      "cell_type": "code",
      "execution_count": null,
      "metadata": {
        "id": "YyqsOQ2qw69l"
      },
      "outputs": [],
      "source": [
        "def target_transform(mask):\n",
        "    mask = mask.resize((224, 224), Image.NEAREST)\n",
        "    mask = np.array(mask, dtype=np.int64)\n",
        "    mask[mask >= 21] = 255\n",
        "    mask = torch.tensor(mask, dtype=torch.long)\n",
        "    return torch.tensor(mask)"
      ]
    },
    {
      "cell_type": "code",
      "execution_count": null,
      "metadata": {
        "id": "xig0g9t9zwm0"
      },
      "outputs": [],
      "source": [
        "def load_pascal_voc(root, year=\"2012\", image_set=\"train\", transform=transform, target_transform=None):\n",
        "    voc_dataset = VOCSegmentation(root=root, year=year, image_set=image_set, download=True)\n",
        "\n",
        "    data = []\n",
        "    for image, target in voc_dataset:\n",
        "      image = transform(image)\n",
        "      target = target_transform(target)\n",
        "      data.append((image, target))\n",
        "    return data"
      ]
    },
    {
      "cell_type": "code",
      "execution_count": null,
      "metadata": {
        "colab": {
          "base_uri": "https://localhost:8080/"
        },
        "id": "yZY_np0pw7Yb",
        "outputId": "81ccd791-3fdd-42ef-c427-e7b033136af4"
      },
      "outputs": [
        {
          "name": "stderr",
          "output_type": "stream",
          "text": [
            "C:\\Users\\chbha\\AppData\\Local\\Temp\\ipykernel_28512\\1372225312.py:6: UserWarning: To copy construct from a tensor, it is recommended to use sourceTensor.clone().detach() or sourceTensor.clone().detach().requires_grad_(True), rather than torch.tensor(sourceTensor).\n",
            "  return torch.tensor(mask)\n"
          ]
        }
      ],
      "source": [
        "train_dataset = load_pascal_voc(root=\"./data\", image_set=\"trainval\", transform=transform, target_transform=target_transform)\n",
        "val_dataset = load_pascal_voc(root=\"./data\", image_set=\"val\", transform=transform, target_transform=target_transform)\n",
        "test_dataset = load_pascal_voc(root=\"./data\", image_set=\"train\", transform=transform, target_transform=target_transform)\n",
        "\n",
        "train_loader = DataLoader(train_dataset, batch_size=8, shuffle=True, num_workers=2)\n",
        "val_loader = DataLoader(val_dataset, batch_size=8, shuffle=False, num_workers=2)\n",
        "test_loader = DataLoader(test_dataset, batch_size=8, shuffle=False, num_workers=2)"
      ]
    },
    {
      "cell_type": "code",
      "execution_count": null,
      "metadata": {
        "id": "YnoxXbJspjTV",
        "outputId": "a61566d9-2a9d-4759-8d1d-c9a079bd19a0"
      },
      "outputs": [
        {
          "name": "stdout",
          "output_type": "stream",
          "text": [
            "2913 1449 1464\n"
          ]
        }
      ],
      "source": [
        "print(len(train_dataset), len(val_dataset), len(test_dataset))"
      ]
    },
    {
      "cell_type": "code",
      "execution_count": null,
      "metadata": {
        "id": "UI6hrwyPpjTV"
      },
      "outputs": [],
      "source": [
        "class SegNet_Vgg(nn.Module):\n",
        "    def __init__(self, encoder):\n",
        "        super(SegNet_Vgg, self).__init__()\n",
        "        self.encoder = encoder\n",
        "        self.decoder = nn.Sequential(\n",
        "            nn.ConvTranspose2d(512, 512, kernel_size=3, stride=2, padding=1, output_padding=1),\n",
        "            nn.BatchNorm2d(512),\n",
        "            nn.ReLU(inplace=True),\n",
        "            nn.ConvTranspose2d(512, 256, kernel_size=3, stride=2, padding=1, output_padding=1),\n",
        "            nn.BatchNorm2d(256),\n",
        "            nn.ReLU(inplace=True),\n",
        "            nn.ConvTranspose2d(256, 128, kernel_size=3, stride=2, padding=1, output_padding=1),\n",
        "            nn.BatchNorm2d(128),\n",
        "            nn.ReLU(inplace=True),\n",
        "            nn.ConvTranspose2d(128, 64, kernel_size=3, stride=2, padding=1, output_padding=1),\n",
        "            nn.BatchNorm2d(64),\n",
        "            nn.ReLU(inplace=True),\n",
        "            nn.ConvTranspose2d(64, 21, kernel_size=3, stride=2, padding=1, output_padding=1),\n",
        "            nn.ReLU(inplace=True),\n",
        "        )\n",
        "\n",
        "    def forward(self, x):\n",
        "        x = self.encoder(x)\n",
        "        latent_representation = x.clone()\n",
        "        x = self.decoder(x)\n",
        "        return x, latent_representation"
      ]
    },
    {
      "cell_type": "code",
      "execution_count": null,
      "metadata": {
        "id": "THJmtSpQw-fT"
      },
      "outputs": [],
      "source": [
        "class SegNet_Eff(nn.Module):\n",
        "    def __init__(self, encoder):\n",
        "        super(SegNet_Eff, self).__init__()\n",
        "        self.encoder = encoder\n",
        "        self.decoder = nn.Sequential(\n",
        "            nn.ConvTranspose2d(1280, 512, kernel_size=3, stride=2, padding=1, output_padding=1),\n",
        "            nn.BatchNorm2d(512),\n",
        "            nn.ReLU(inplace=True),\n",
        "            nn.ConvTranspose2d(512, 256, kernel_size=3, stride=2, padding=1, output_padding=1),\n",
        "            nn.BatchNorm2d(256),\n",
        "            nn.ReLU(inplace=True),\n",
        "            nn.ConvTranspose2d(256, 128, kernel_size=3, stride=2, padding=1, output_padding=1),\n",
        "            nn.BatchNorm2d(128),\n",
        "            nn.ReLU(inplace=True),\n",
        "            nn.ConvTranspose2d(128, 64, kernel_size=3, stride=2, padding=1, output_padding=1),\n",
        "            nn.BatchNorm2d(64),\n",
        "            nn.ReLU(inplace=True),\n",
        "            nn.ConvTranspose2d(64, 21, kernel_size=3, stride=2, padding=1, output_padding=1),\n",
        "            nn.ReLU(inplace=True),\n",
        "        )\n",
        "\n",
        "    def forward(self, x):\n",
        "        x = self.encoder(x)\n",
        "        latent_representation = x.clone()\n",
        "        x = self.decoder(x)\n",
        "        return x, latent_representation"
      ]
    },
    {
      "cell_type": "code",
      "execution_count": null,
      "metadata": {
        "id": "adJ_AQXoxAVx"
      },
      "outputs": [],
      "source": [
        "vgg_encoder = models.vgg16(pretrained=True).features\n",
        "for layer in vgg_encoder:\n",
        "    layer.requires_grad = False"
      ]
    },
    {
      "cell_type": "code",
      "execution_count": null,
      "metadata": {
        "id": "BUIynGmvxCAb",
        "outputId": "054356da-1727-4e0b-86ce-2f512d1aee7e"
      },
      "outputs": [
        {
          "name": "stderr",
          "output_type": "stream",
          "text": [
            "c:\\Users\\chbha\\anaconda3\\Lib\\site-packages\\torchvision\\models\\_utils.py:223: UserWarning: Arguments other than a weight enum or `None` for 'weights' are deprecated since 0.13 and may be removed in the future. The current behavior is equivalent to passing `weights=EfficientNet_B0_Weights.IMAGENET1K_V1`. You can also use `weights=EfficientNet_B0_Weights.DEFAULT` to get the most up-to-date weights.\n",
            "  warnings.warn(msg)\n"
          ]
        }
      ],
      "source": [
        "efficientnet_encoder = models.efficientnet_b0(pretrained=True).features\n",
        "for layer in efficientnet_encoder:\n",
        "    layer.requires_grad = False"
      ]
    },
    {
      "cell_type": "code",
      "execution_count": null,
      "metadata": {
        "id": "LqnYXnhxRZpg"
      },
      "outputs": [],
      "source": [
        "device = torch.device(\"cuda\" if torch.cuda.is_available() else \"cpu\")"
      ]
    },
    {
      "cell_type": "code",
      "execution_count": null,
      "metadata": {
        "id": "mCaXGYkWxETQ"
      },
      "outputs": [],
      "source": [
        "vgg_segnet = SegNet_Vgg(vgg_encoder).to(device)\n",
        "efficientnet_segnet = SegNet_Eff(efficientnet_encoder).to(device)\n",
        "\n",
        "criterion = nn.CrossEntropyLoss(ignore_index=255)\n",
        "optimizer_vgg = optim.Adam(vgg_segnet.parameters(), lr=1e-4, weight_decay=1e-5)\n",
        "optimizer_eff = optim.Adam(efficientnet_segnet.parameters(), lr=1e-4, weight_decay=1e-5)"
      ]
    },
    {
      "cell_type": "code",
      "execution_count": null,
      "metadata": {
        "id": "0_ANoPDgpjTW"
      },
      "outputs": [],
      "source": [
        "def calculate_dice_score(y_true, y_pred, num_classes=21):\n",
        "    dice_scores = {}\n",
        "    y_true_flat = y_true.ravel()\n",
        "    y_pred_flat = y_pred.ravel()\n",
        "\n",
        "    for cls in range(num_classes):\n",
        "        y_true_cls = (y_true_flat == cls).astype(int)\n",
        "        y_pred_cls = (y_pred_flat == cls).astype(int)\n",
        "\n",
        "        dice_score = f1_score(y_true_cls, y_pred_cls, zero_division=1)\n",
        "        dice_scores[f\"Class {cls}\"] = dice_score\n",
        "\n",
        "    dice_scores[\"Mean Dice Score\"] = np.mean(list(dice_scores.values()))\n",
        "    return dice_scores"
      ]
    },
    {
      "cell_type": "code",
      "execution_count": null,
      "metadata": {
        "id": "hW0lu2dexFP-"
      },
      "outputs": [],
      "source": [
        "def train_and_evaluate(model, train_loader, val_loader, test_loader, criterion, optimizer, num_epochs, device):\n",
        "\n",
        "    model = model.to(device)\n",
        "\n",
        "    best_model_weights = None\n",
        "    best_val_loss = float(\"inf\")\n",
        "\n",
        "    for epoch in range(num_epochs):\n",
        "        model.train()\n",
        "        train_loss = 0\n",
        "        for images, masks in tqdm(train_loader, desc=f\"Epoch {epoch+1}/{num_epochs} [Train]\"):\n",
        "            images, masks = images.to(device), masks.to(device)\n",
        "            optimizer.zero_grad()\n",
        "            outputs, _= model(images)\n",
        "            loss = criterion(outputs, masks)\n",
        "            loss.backward()\n",
        "            optimizer.step()\n",
        "            train_loss += loss.item()\n",
        "\n",
        "        val_loss = 0\n",
        "        model.eval()\n",
        "        with torch.no_grad():\n",
        "            for images, masks in tqdm(val_loader, desc=f\"Epoch {epoch+1}/{num_epochs} [Validate]\"):\n",
        "                images, masks = images.to(device), masks.to(device)\n",
        "                outputs, _ = model(images)\n",
        "                loss = criterion(outputs, masks)\n",
        "                val_loss += loss.item()\n",
        "\n",
        "        print(f\"Epoch {epoch+1}/{num_epochs}, Train Loss: {train_loss/len(train_loader):.4f}, Val Loss: {val_loss/len(val_loader):.4f}\")\n",
        "\n",
        "        if val_loss < best_val_loss:\n",
        "            best_val_loss = val_loss\n",
        "            best_model_weights = model.state_dict()\n",
        "\n",
        "    model.load_state_dict(best_model_weights)\n",
        "\n",
        "    return evaluate_model(model, test_loader, criterion, device)\n",
        "\n",
        "def evaluate_model(model, test_loader, criterion, device):\n",
        "\n",
        "    model.eval()\n",
        "    model = model.to(device)\n",
        "\n",
        "    total_loss = 0\n",
        "    pixel_acc_list, mean_iou_list, dice_list = [], [], []\n",
        "    y_true_all, y_pred_all = [], []\n",
        "\n",
        "    with torch.no_grad():\n",
        "        for images, masks in tqdm(test_loader, desc=\"Testing\"):\n",
        "            images, masks = images.to(device), masks.to(device)\n",
        "            outputs, _= model(images)\n",
        "            loss = criterion(outputs, masks)\n",
        "            total_loss += loss.item()\n",
        "\n",
        "            preds = torch.argmax(outputs, dim=1).cpu().numpy()\n",
        "            targets = masks.cpu().numpy()\n",
        "\n",
        "            pixel_acc_list.append(np.mean(preds == targets))\n",
        "\n",
        "            for pred, target in zip(preds, targets):\n",
        "                mean_iou_list.append(jaccard_score(target.flatten(), pred.flatten(), average=\"macro\"))\n",
        "                dice_score = calculate_dice_score(target, pred, num_classes=21)\n",
        "                y_true_all.extend(target.flatten())\n",
        "                y_pred_all.extend(pred.flatten())\n",
        "\n",
        "    precision, recall, f1_score, _ = precision_recall_fscore_support(y_true_all, y_pred_all, average=\"macro\")\n",
        "\n",
        "    return {\n",
        "        \"Pixel Accuracy\": np.mean(pixel_acc_list),\n",
        "        \"Mean IoU\": np.mean(mean_iou_list),\n",
        "        \"F1 Score\": f1_score,\n",
        "        \"Dice Score\": dice_score,\n",
        "        \"Loss\": total_loss / len(test_loader),\n",
        "    }\n"
      ]
    },
    {
      "cell_type": "code",
      "execution_count": null,
      "metadata": {
        "id": "YYcz1WYzxIVE",
        "outputId": "64a6ce88-f886-42fa-f5f0-d963ac5c2838"
      },
      "outputs": [
        {
          "name": "stdout",
          "output_type": "stream",
          "text": [
            "Training VGG-based SegNet\n"
          ]
        },
        {
          "name": "stderr",
          "output_type": "stream",
          "text": [
            "Epoch 1/35 [Train]: 100%|██████████| 365/365 [01:22<00:00,  4.40it/s]\n",
            "Epoch 1/35 [Validate]: 100%|██████████| 182/182 [00:19<00:00,  9.10it/s]\n"
          ]
        },
        {
          "name": "stdout",
          "output_type": "stream",
          "text": [
            "Epoch 1/35, Train Loss: 2.1226, Val Loss: 1.5621\n"
          ]
        },
        {
          "name": "stderr",
          "output_type": "stream",
          "text": [
            "Epoch 2/35 [Train]: 100%|██████████| 365/365 [01:18<00:00,  4.65it/s]\n",
            "Epoch 2/35 [Validate]: 100%|██████████| 182/182 [00:19<00:00,  9.32it/s]\n"
          ]
        },
        {
          "name": "stdout",
          "output_type": "stream",
          "text": [
            "Epoch 2/35, Train Loss: 1.3412, Val Loss: 1.1874\n"
          ]
        },
        {
          "name": "stderr",
          "output_type": "stream",
          "text": [
            "Epoch 3/35 [Train]: 100%|██████████| 365/365 [01:18<00:00,  4.65it/s]\n",
            "Epoch 3/35 [Validate]: 100%|██████████| 182/182 [00:18<00:00, 10.09it/s]\n"
          ]
        },
        {
          "name": "stdout",
          "output_type": "stream",
          "text": [
            "Epoch 3/35, Train Loss: 1.1118, Val Loss: 1.0627\n"
          ]
        },
        {
          "name": "stderr",
          "output_type": "stream",
          "text": [
            "Epoch 4/35 [Train]: 100%|██████████| 365/365 [01:18<00:00,  4.67it/s]\n",
            "Epoch 4/35 [Validate]: 100%|██████████| 182/182 [00:19<00:00,  9.35it/s]\n"
          ]
        },
        {
          "name": "stdout",
          "output_type": "stream",
          "text": [
            "Epoch 4/35, Train Loss: 1.0046, Val Loss: 1.0524\n"
          ]
        },
        {
          "name": "stderr",
          "output_type": "stream",
          "text": [
            "Epoch 5/35 [Train]: 100%|██████████| 365/365 [01:18<00:00,  4.64it/s]\n",
            "Epoch 5/35 [Validate]: 100%|██████████| 182/182 [00:18<00:00,  9.64it/s]\n"
          ]
        },
        {
          "name": "stdout",
          "output_type": "stream",
          "text": [
            "Epoch 5/35, Train Loss: 0.9207, Val Loss: 0.9596\n"
          ]
        },
        {
          "name": "stderr",
          "output_type": "stream",
          "text": [
            "Epoch 6/35 [Train]: 100%|██████████| 365/365 [01:18<00:00,  4.66it/s]\n",
            "Epoch 6/35 [Validate]: 100%|██████████| 182/182 [00:18<00:00, 10.00it/s]\n"
          ]
        },
        {
          "name": "stdout",
          "output_type": "stream",
          "text": [
            "Epoch 6/35, Train Loss: 0.8380, Val Loss: 0.9224\n"
          ]
        },
        {
          "name": "stderr",
          "output_type": "stream",
          "text": [
            "Epoch 7/35 [Train]: 100%|██████████| 365/365 [01:18<00:00,  4.64it/s]\n",
            "Epoch 7/35 [Validate]: 100%|██████████| 182/182 [00:19<00:00,  9.27it/s]\n"
          ]
        },
        {
          "name": "stdout",
          "output_type": "stream",
          "text": [
            "Epoch 7/35, Train Loss: 0.7677, Val Loss: 0.9196\n"
          ]
        },
        {
          "name": "stderr",
          "output_type": "stream",
          "text": [
            "Epoch 8/35 [Train]: 100%|██████████| 365/365 [01:18<00:00,  4.66it/s]\n",
            "Epoch 8/35 [Validate]: 100%|██████████| 182/182 [00:20<00:00,  8.95it/s]\n"
          ]
        },
        {
          "name": "stdout",
          "output_type": "stream",
          "text": [
            "Epoch 8/35, Train Loss: 0.7080, Val Loss: 0.8719\n"
          ]
        },
        {
          "name": "stderr",
          "output_type": "stream",
          "text": [
            "Epoch 9/35 [Train]: 100%|██████████| 365/365 [01:18<00:00,  4.65it/s]\n",
            "Epoch 9/35 [Validate]: 100%|██████████| 182/182 [00:17<00:00, 10.12it/s]\n"
          ]
        },
        {
          "name": "stdout",
          "output_type": "stream",
          "text": [
            "Epoch 9/35, Train Loss: 0.6573, Val Loss: 0.8705\n"
          ]
        },
        {
          "name": "stderr",
          "output_type": "stream",
          "text": [
            "Epoch 10/35 [Train]: 100%|██████████| 365/365 [01:18<00:00,  4.67it/s]\n",
            "Epoch 10/35 [Validate]: 100%|██████████| 182/182 [00:22<00:00,  8.13it/s]\n"
          ]
        },
        {
          "name": "stdout",
          "output_type": "stream",
          "text": [
            "Epoch 10/35, Train Loss: 0.6184, Val Loss: 0.8583\n"
          ]
        },
        {
          "name": "stderr",
          "output_type": "stream",
          "text": [
            "Epoch 11/35 [Train]: 100%|██████████| 365/365 [01:20<00:00,  4.56it/s]\n",
            "Epoch 11/35 [Validate]: 100%|██████████| 182/182 [00:18<00:00, 10.06it/s]\n"
          ]
        },
        {
          "name": "stdout",
          "output_type": "stream",
          "text": [
            "Epoch 11/35, Train Loss: 0.5725, Val Loss: 0.8044\n"
          ]
        },
        {
          "name": "stderr",
          "output_type": "stream",
          "text": [
            "Epoch 12/35 [Train]: 100%|██████████| 365/365 [01:16<00:00,  4.76it/s]\n",
            "Epoch 12/35 [Validate]: 100%|██████████| 182/182 [00:19<00:00,  9.43it/s]\n"
          ]
        },
        {
          "name": "stdout",
          "output_type": "stream",
          "text": [
            "Epoch 12/35, Train Loss: 0.5052, Val Loss: 0.8320\n"
          ]
        },
        {
          "name": "stderr",
          "output_type": "stream",
          "text": [
            "Epoch 13/35 [Train]: 100%|██████████| 365/365 [01:16<00:00,  4.75it/s]\n",
            "Epoch 13/35 [Validate]: 100%|██████████| 182/182 [00:20<00:00,  8.86it/s]\n"
          ]
        },
        {
          "name": "stdout",
          "output_type": "stream",
          "text": [
            "Epoch 13/35, Train Loss: 0.4409, Val Loss: 0.7294\n"
          ]
        },
        {
          "name": "stderr",
          "output_type": "stream",
          "text": [
            "Epoch 14/35 [Train]: 100%|██████████| 365/365 [01:17<00:00,  4.72it/s]\n",
            "Epoch 14/35 [Validate]: 100%|██████████| 182/182 [00:20<00:00,  9.08it/s]\n"
          ]
        },
        {
          "name": "stdout",
          "output_type": "stream",
          "text": [
            "Epoch 14/35, Train Loss: 0.4007, Val Loss: 0.7635\n"
          ]
        },
        {
          "name": "stderr",
          "output_type": "stream",
          "text": [
            "Epoch 15/35 [Train]: 100%|██████████| 365/365 [01:19<00:00,  4.57it/s]\n",
            "Epoch 15/35 [Validate]: 100%|██████████| 182/182 [00:20<00:00,  8.71it/s]\n"
          ]
        },
        {
          "name": "stdout",
          "output_type": "stream",
          "text": [
            "Epoch 15/35, Train Loss: 0.3714, Val Loss: 0.7313\n"
          ]
        },
        {
          "name": "stderr",
          "output_type": "stream",
          "text": [
            "Epoch 16/35 [Train]: 100%|██████████| 365/365 [01:19<00:00,  4.57it/s]\n",
            "Epoch 16/35 [Validate]: 100%|██████████| 182/182 [00:20<00:00,  8.80it/s]\n"
          ]
        },
        {
          "name": "stdout",
          "output_type": "stream",
          "text": [
            "Epoch 16/35, Train Loss: 0.3247, Val Loss: 0.6916\n"
          ]
        },
        {
          "name": "stderr",
          "output_type": "stream",
          "text": [
            "Epoch 17/35 [Train]: 100%|██████████| 365/365 [01:19<00:00,  4.60it/s]\n",
            "Epoch 17/35 [Validate]: 100%|██████████| 182/182 [00:21<00:00,  8.44it/s]\n"
          ]
        },
        {
          "name": "stdout",
          "output_type": "stream",
          "text": [
            "Epoch 17/35, Train Loss: 0.2871, Val Loss: 0.6879\n"
          ]
        },
        {
          "name": "stderr",
          "output_type": "stream",
          "text": [
            "Epoch 18/35 [Train]: 100%|██████████| 365/365 [01:19<00:00,  4.58it/s]\n",
            "Epoch 18/35 [Validate]: 100%|██████████| 182/182 [00:21<00:00,  8.65it/s]\n"
          ]
        },
        {
          "name": "stdout",
          "output_type": "stream",
          "text": [
            "Epoch 18/35, Train Loss: 0.2607, Val Loss: 0.7608\n"
          ]
        },
        {
          "name": "stderr",
          "output_type": "stream",
          "text": [
            "Epoch 19/35 [Train]: 100%|██████████| 365/365 [01:19<00:00,  4.59it/s]\n",
            "Epoch 19/35 [Validate]: 100%|██████████| 182/182 [00:20<00:00,  8.75it/s]\n"
          ]
        },
        {
          "name": "stdout",
          "output_type": "stream",
          "text": [
            "Epoch 19/35, Train Loss: 0.2452, Val Loss: 0.7076\n"
          ]
        },
        {
          "name": "stderr",
          "output_type": "stream",
          "text": [
            "Epoch 20/35 [Train]: 100%|██████████| 365/365 [01:19<00:00,  4.58it/s]\n",
            "Epoch 20/35 [Validate]: 100%|██████████| 182/182 [00:23<00:00,  7.59it/s]\n"
          ]
        },
        {
          "name": "stdout",
          "output_type": "stream",
          "text": [
            "Epoch 20/35, Train Loss: 0.2227, Val Loss: 0.7003\n"
          ]
        },
        {
          "name": "stderr",
          "output_type": "stream",
          "text": [
            "Epoch 21/35 [Train]: 100%|██████████| 365/365 [01:21<00:00,  4.49it/s]\n",
            "Epoch 21/35 [Validate]: 100%|██████████| 182/182 [00:18<00:00,  9.61it/s]\n"
          ]
        },
        {
          "name": "stdout",
          "output_type": "stream",
          "text": [
            "Epoch 21/35, Train Loss: 0.2025, Val Loss: 0.7119\n"
          ]
        },
        {
          "name": "stderr",
          "output_type": "stream",
          "text": [
            "Epoch 22/35 [Train]: 100%|██████████| 365/365 [01:16<00:00,  4.77it/s]\n",
            "Epoch 22/35 [Validate]: 100%|██████████| 182/182 [00:18<00:00,  9.74it/s]\n"
          ]
        },
        {
          "name": "stdout",
          "output_type": "stream",
          "text": [
            "Epoch 22/35, Train Loss: 0.1835, Val Loss: 0.6890\n"
          ]
        },
        {
          "name": "stderr",
          "output_type": "stream",
          "text": [
            "Epoch 23/35 [Train]: 100%|██████████| 365/365 [01:17<00:00,  4.71it/s]\n",
            "Epoch 23/35 [Validate]: 100%|██████████| 182/182 [00:18<00:00,  9.78it/s]\n"
          ]
        },
        {
          "name": "stdout",
          "output_type": "stream",
          "text": [
            "Epoch 23/35, Train Loss: 0.1734, Val Loss: 0.7194\n"
          ]
        },
        {
          "name": "stderr",
          "output_type": "stream",
          "text": [
            "Epoch 24/35 [Train]: 100%|██████████| 365/365 [01:19<00:00,  4.62it/s]\n",
            "Epoch 24/35 [Validate]: 100%|██████████| 182/182 [00:19<00:00,  9.50it/s]\n"
          ]
        },
        {
          "name": "stdout",
          "output_type": "stream",
          "text": [
            "Epoch 24/35, Train Loss: 0.1607, Val Loss: 0.7263\n"
          ]
        },
        {
          "name": "stderr",
          "output_type": "stream",
          "text": [
            "Epoch 25/35 [Train]: 100%|██████████| 365/365 [01:16<00:00,  4.77it/s]\n",
            "Epoch 25/35 [Validate]: 100%|██████████| 182/182 [00:19<00:00,  9.46it/s]\n"
          ]
        },
        {
          "name": "stdout",
          "output_type": "stream",
          "text": [
            "Epoch 25/35, Train Loss: 0.1608, Val Loss: 0.7004\n"
          ]
        },
        {
          "name": "stderr",
          "output_type": "stream",
          "text": [
            "Epoch 26/35 [Train]: 100%|██████████| 365/365 [01:16<00:00,  4.79it/s]\n",
            "Epoch 26/35 [Validate]: 100%|██████████| 182/182 [00:18<00:00,  9.93it/s]\n"
          ]
        },
        {
          "name": "stdout",
          "output_type": "stream",
          "text": [
            "Epoch 26/35, Train Loss: 0.1417, Val Loss: 0.7030\n"
          ]
        },
        {
          "name": "stderr",
          "output_type": "stream",
          "text": [
            "Epoch 27/35 [Train]: 100%|██████████| 365/365 [01:16<00:00,  4.80it/s]\n",
            "Epoch 27/35 [Validate]: 100%|██████████| 182/182 [00:18<00:00, 10.02it/s]\n"
          ]
        },
        {
          "name": "stdout",
          "output_type": "stream",
          "text": [
            "Epoch 27/35, Train Loss: 0.1236, Val Loss: 0.7129\n"
          ]
        },
        {
          "name": "stderr",
          "output_type": "stream",
          "text": [
            "Epoch 28/35 [Train]: 100%|██████████| 365/365 [01:16<00:00,  4.78it/s]\n",
            "Epoch 28/35 [Validate]: 100%|██████████| 182/182 [00:18<00:00,  9.93it/s]\n"
          ]
        },
        {
          "name": "stdout",
          "output_type": "stream",
          "text": [
            "Epoch 28/35, Train Loss: 0.1144, Val Loss: 0.7604\n"
          ]
        },
        {
          "name": "stderr",
          "output_type": "stream",
          "text": [
            "Epoch 29/35 [Train]: 100%|██████████| 365/365 [01:16<00:00,  4.78it/s]\n",
            "Epoch 29/35 [Validate]: 100%|██████████| 182/182 [00:18<00:00, 10.02it/s]\n"
          ]
        },
        {
          "name": "stdout",
          "output_type": "stream",
          "text": [
            "Epoch 29/35, Train Loss: 0.1166, Val Loss: 0.7198\n"
          ]
        },
        {
          "name": "stderr",
          "output_type": "stream",
          "text": [
            "Epoch 30/35 [Train]: 100%|██████████| 365/365 [01:16<00:00,  4.77it/s]\n",
            "Epoch 30/35 [Validate]: 100%|██████████| 182/182 [00:19<00:00,  9.48it/s]\n"
          ]
        },
        {
          "name": "stdout",
          "output_type": "stream",
          "text": [
            "Epoch 30/35, Train Loss: 0.2330, Val Loss: 0.7447\n"
          ]
        },
        {
          "name": "stderr",
          "output_type": "stream",
          "text": [
            "Epoch 31/35 [Train]: 100%|██████████| 365/365 [01:15<00:00,  4.81it/s]\n",
            "Epoch 31/35 [Validate]: 100%|██████████| 182/182 [00:17<00:00, 10.27it/s]\n"
          ]
        },
        {
          "name": "stdout",
          "output_type": "stream",
          "text": [
            "Epoch 31/35, Train Loss: 0.1511, Val Loss: 0.6615\n"
          ]
        },
        {
          "name": "stderr",
          "output_type": "stream",
          "text": [
            "Epoch 32/35 [Train]: 100%|██████████| 365/365 [01:16<00:00,  4.79it/s]\n",
            "Epoch 32/35 [Validate]: 100%|██████████| 182/182 [00:18<00:00, 10.06it/s]\n"
          ]
        },
        {
          "name": "stdout",
          "output_type": "stream",
          "text": [
            "Epoch 32/35, Train Loss: 0.1052, Val Loss: 0.6984\n"
          ]
        },
        {
          "name": "stderr",
          "output_type": "stream",
          "text": [
            "Epoch 33/35 [Train]: 100%|██████████| 365/365 [01:16<00:00,  4.76it/s]\n",
            "Epoch 33/35 [Validate]: 100%|██████████| 182/182 [00:18<00:00, 10.02it/s]\n"
          ]
        },
        {
          "name": "stdout",
          "output_type": "stream",
          "text": [
            "Epoch 33/35, Train Loss: 0.0906, Val Loss: 0.7232\n"
          ]
        },
        {
          "name": "stderr",
          "output_type": "stream",
          "text": [
            "Epoch 34/35 [Train]: 100%|██████████| 365/365 [01:16<00:00,  4.78it/s]\n",
            "Epoch 34/35 [Validate]: 100%|██████████| 182/182 [00:19<00:00,  9.57it/s]\n"
          ]
        },
        {
          "name": "stdout",
          "output_type": "stream",
          "text": [
            "Epoch 34/35, Train Loss: 0.0839, Val Loss: 0.7570\n"
          ]
        },
        {
          "name": "stderr",
          "output_type": "stream",
          "text": [
            "Epoch 35/35 [Train]: 100%|██████████| 365/365 [01:16<00:00,  4.78it/s]\n",
            "Epoch 35/35 [Validate]: 100%|██████████| 182/182 [00:19<00:00,  9.49it/s]\n"
          ]
        },
        {
          "name": "stdout",
          "output_type": "stream",
          "text": [
            "Epoch 35/35, Train Loss: 0.0815, Val Loss: 0.7726\n"
          ]
        },
        {
          "name": "stderr",
          "output_type": "stream",
          "text": [
            "Testing: 100%|██████████| 183/183 [04:00<00:00,  1.31s/it]\n",
            "c:\\Users\\chbha\\anaconda3\\Lib\\site-packages\\sklearn\\metrics\\_classification.py:1531: UndefinedMetricWarning: Precision is ill-defined and being set to 0.0 in labels with no predicted samples. Use `zero_division` parameter to control this behavior.\n",
            "  _warn_prf(average, modifier, f\"{metric.capitalize()} is\", len(result))\n"
          ]
        },
        {
          "data": {
            "text/plain": [
              "{'Pixel Accuracy': 0.8100067543667057,\n",
              " 'Mean IoU': 0.2740055142989091,\n",
              " 'F1 Score': 0.5876558549198992,\n",
              " 'Dice Score': {'Class 0': 0.4691322433178205,\n",
              "  'Class 1': 1.0,\n",
              "  'Class 2': 1.0,\n",
              "  'Class 3': 1.0,\n",
              "  'Class 4': 1.0,\n",
              "  'Class 5': 1.0,\n",
              "  'Class 6': 1.0,\n",
              "  'Class 7': 1.0,\n",
              "  'Class 8': 1.0,\n",
              "  'Class 9': 1.0,\n",
              "  'Class 10': 1.0,\n",
              "  'Class 11': 1.0,\n",
              "  'Class 12': 1.0,\n",
              "  'Class 13': 1.0,\n",
              "  'Class 14': 1.0,\n",
              "  'Class 15': 0.4805926165149466,\n",
              "  'Class 16': 0.0,\n",
              "  'Class 17': 1.0,\n",
              "  'Class 18': 1.0,\n",
              "  'Class 19': 1.0,\n",
              "  'Class 20': 1.0,\n",
              "  'Mean Dice Score': 0.902367850468227},\n",
              " 'Loss': 0.8093595049583195}"
            ]
          },
          "execution_count": 59,
          "metadata": {},
          "output_type": "execute_result"
        }
      ],
      "source": [
        "print(\"Training VGG-based SegNet\")\n",
        "train_and_evaluate(vgg_segnet, train_loader, val_loader, test_loader, criterion, optimizer_vgg, num_epochs=35, device = device)"
      ]
    },
    {
      "cell_type": "code",
      "execution_count": null,
      "metadata": {
        "id": "KXZc7xa0xJRi",
        "outputId": "297b21fb-2e6c-401e-ed47-bbedc324e17b"
      },
      "outputs": [
        {
          "name": "stdout",
          "output_type": "stream",
          "text": [
            "Training EfficientNet-based SegNet\n"
          ]
        },
        {
          "name": "stderr",
          "output_type": "stream",
          "text": [
            "Epoch 1/35 [Train]: 100%|██████████| 365/365 [00:49<00:00,  7.36it/s]\n",
            "Epoch 1/35 [Validate]: 100%|██████████| 182/182 [00:13<00:00, 13.86it/s]\n"
          ]
        },
        {
          "name": "stdout",
          "output_type": "stream",
          "text": [
            "Epoch 1/35, Train Loss: 2.1391, Val Loss: 1.4985\n"
          ]
        },
        {
          "name": "stderr",
          "output_type": "stream",
          "text": [
            "Epoch 2/35 [Train]: 100%|██████████| 365/365 [00:49<00:00,  7.44it/s]\n",
            "Epoch 2/35 [Validate]: 100%|██████████| 182/182 [00:13<00:00, 13.77it/s]\n"
          ]
        },
        {
          "name": "stdout",
          "output_type": "stream",
          "text": [
            "Epoch 2/35, Train Loss: 1.3009, Val Loss: 1.0913\n"
          ]
        },
        {
          "name": "stderr",
          "output_type": "stream",
          "text": [
            "Epoch 3/35 [Train]: 100%|██████████| 365/365 [00:48<00:00,  7.47it/s]\n",
            "Epoch 3/35 [Validate]: 100%|██████████| 182/182 [00:13<00:00, 13.94it/s]\n"
          ]
        },
        {
          "name": "stdout",
          "output_type": "stream",
          "text": [
            "Epoch 3/35, Train Loss: 1.0832, Val Loss: 0.9927\n"
          ]
        },
        {
          "name": "stderr",
          "output_type": "stream",
          "text": [
            "Epoch 4/35 [Train]: 100%|██████████| 365/365 [00:49<00:00,  7.40it/s]\n",
            "Epoch 4/35 [Validate]: 100%|██████████| 182/182 [00:13<00:00, 13.97it/s]\n"
          ]
        },
        {
          "name": "stdout",
          "output_type": "stream",
          "text": [
            "Epoch 4/35, Train Loss: 0.9870, Val Loss: 0.9407\n"
          ]
        },
        {
          "name": "stderr",
          "output_type": "stream",
          "text": [
            "Epoch 5/35 [Train]: 100%|██████████| 365/365 [00:49<00:00,  7.36it/s]\n",
            "Epoch 5/35 [Validate]: 100%|██████████| 182/182 [00:13<00:00, 13.78it/s]\n"
          ]
        },
        {
          "name": "stdout",
          "output_type": "stream",
          "text": [
            "Epoch 5/35, Train Loss: 0.9045, Val Loss: 0.8717\n"
          ]
        },
        {
          "name": "stderr",
          "output_type": "stream",
          "text": [
            "Epoch 6/35 [Train]: 100%|██████████| 365/365 [00:48<00:00,  7.48it/s]\n",
            "Epoch 6/35 [Validate]: 100%|██████████| 182/182 [00:13<00:00, 13.84it/s]\n"
          ]
        },
        {
          "name": "stdout",
          "output_type": "stream",
          "text": [
            "Epoch 6/35, Train Loss: 0.8367, Val Loss: 0.8357\n"
          ]
        },
        {
          "name": "stderr",
          "output_type": "stream",
          "text": [
            "Epoch 7/35 [Train]: 100%|██████████| 365/365 [00:49<00:00,  7.39it/s]\n",
            "Epoch 7/35 [Validate]: 100%|██████████| 182/182 [00:13<00:00, 13.80it/s]\n"
          ]
        },
        {
          "name": "stdout",
          "output_type": "stream",
          "text": [
            "Epoch 7/35, Train Loss: 0.7907, Val Loss: 0.8063\n"
          ]
        },
        {
          "name": "stderr",
          "output_type": "stream",
          "text": [
            "Epoch 8/35 [Train]: 100%|██████████| 365/365 [00:49<00:00,  7.32it/s]\n",
            "Epoch 8/35 [Validate]: 100%|██████████| 182/182 [00:12<00:00, 14.03it/s]\n"
          ]
        },
        {
          "name": "stdout",
          "output_type": "stream",
          "text": [
            "Epoch 8/35, Train Loss: 0.7459, Val Loss: 0.7803\n"
          ]
        },
        {
          "name": "stderr",
          "output_type": "stream",
          "text": [
            "Epoch 9/35 [Train]: 100%|██████████| 365/365 [00:49<00:00,  7.34it/s]\n",
            "Epoch 9/35 [Validate]: 100%|██████████| 182/182 [00:13<00:00, 13.95it/s]\n"
          ]
        },
        {
          "name": "stdout",
          "output_type": "stream",
          "text": [
            "Epoch 9/35, Train Loss: 0.7079, Val Loss: 0.7455\n"
          ]
        },
        {
          "name": "stderr",
          "output_type": "stream",
          "text": [
            "Epoch 10/35 [Train]: 100%|██████████| 365/365 [00:49<00:00,  7.31it/s]\n",
            "Epoch 10/35 [Validate]: 100%|██████████| 182/182 [00:13<00:00, 13.72it/s]\n"
          ]
        },
        {
          "name": "stdout",
          "output_type": "stream",
          "text": [
            "Epoch 10/35, Train Loss: 0.6617, Val Loss: 0.7181\n"
          ]
        },
        {
          "name": "stderr",
          "output_type": "stream",
          "text": [
            "Epoch 11/35 [Train]: 100%|██████████| 365/365 [00:48<00:00,  7.46it/s]\n",
            "Epoch 11/35 [Validate]: 100%|██████████| 182/182 [00:13<00:00, 13.97it/s]\n"
          ]
        },
        {
          "name": "stdout",
          "output_type": "stream",
          "text": [
            "Epoch 11/35, Train Loss: 0.6221, Val Loss: 0.6850\n"
          ]
        },
        {
          "name": "stderr",
          "output_type": "stream",
          "text": [
            "Epoch 12/35 [Train]: 100%|██████████| 365/365 [00:49<00:00,  7.42it/s]\n",
            "Epoch 12/35 [Validate]: 100%|██████████| 182/182 [00:12<00:00, 14.06it/s]\n"
          ]
        },
        {
          "name": "stdout",
          "output_type": "stream",
          "text": [
            "Epoch 12/35, Train Loss: 0.5824, Val Loss: 0.6491\n"
          ]
        },
        {
          "name": "stderr",
          "output_type": "stream",
          "text": [
            "Epoch 13/35 [Train]: 100%|██████████| 365/365 [00:48<00:00,  7.51it/s]\n",
            "Epoch 13/35 [Validate]: 100%|██████████| 182/182 [00:12<00:00, 14.15it/s]\n"
          ]
        },
        {
          "name": "stdout",
          "output_type": "stream",
          "text": [
            "Epoch 13/35, Train Loss: 0.5404, Val Loss: 0.6089\n"
          ]
        },
        {
          "name": "stderr",
          "output_type": "stream",
          "text": [
            "Epoch 14/35 [Train]: 100%|██████████| 365/365 [00:49<00:00,  7.45it/s]\n",
            "Epoch 14/35 [Validate]: 100%|██████████| 182/182 [00:13<00:00, 13.95it/s]\n"
          ]
        },
        {
          "name": "stdout",
          "output_type": "stream",
          "text": [
            "Epoch 14/35, Train Loss: 0.4943, Val Loss: 0.5733\n"
          ]
        },
        {
          "name": "stderr",
          "output_type": "stream",
          "text": [
            "Epoch 15/35 [Train]: 100%|██████████| 365/365 [00:48<00:00,  7.48it/s]\n",
            "Epoch 15/35 [Validate]: 100%|██████████| 182/182 [00:12<00:00, 14.02it/s]\n"
          ]
        },
        {
          "name": "stdout",
          "output_type": "stream",
          "text": [
            "Epoch 15/35, Train Loss: 0.4526, Val Loss: 0.5472\n"
          ]
        },
        {
          "name": "stderr",
          "output_type": "stream",
          "text": [
            "Epoch 16/35 [Train]: 100%|██████████| 365/365 [00:48<00:00,  7.47it/s]\n",
            "Epoch 16/35 [Validate]: 100%|██████████| 182/182 [00:13<00:00, 13.92it/s]\n"
          ]
        },
        {
          "name": "stdout",
          "output_type": "stream",
          "text": [
            "Epoch 16/35, Train Loss: 0.4246, Val Loss: 0.5334\n"
          ]
        },
        {
          "name": "stderr",
          "output_type": "stream",
          "text": [
            "Epoch 17/35 [Train]: 100%|██████████| 365/365 [00:49<00:00,  7.42it/s]\n",
            "Epoch 17/35 [Validate]: 100%|██████████| 182/182 [00:13<00:00, 13.74it/s]\n"
          ]
        },
        {
          "name": "stdout",
          "output_type": "stream",
          "text": [
            "Epoch 17/35, Train Loss: 0.3891, Val Loss: 0.5237\n"
          ]
        },
        {
          "name": "stderr",
          "output_type": "stream",
          "text": [
            "Epoch 18/35 [Train]: 100%|██████████| 365/365 [00:47<00:00,  7.70it/s]\n",
            "Epoch 18/35 [Validate]: 100%|██████████| 182/182 [00:13<00:00, 13.85it/s]\n"
          ]
        },
        {
          "name": "stdout",
          "output_type": "stream",
          "text": [
            "Epoch 18/35, Train Loss: 0.3735, Val Loss: 0.5201\n"
          ]
        },
        {
          "name": "stderr",
          "output_type": "stream",
          "text": [
            "Epoch 19/35 [Train]: 100%|██████████| 365/365 [00:48<00:00,  7.49it/s]\n",
            "Epoch 19/35 [Validate]: 100%|██████████| 182/182 [00:13<00:00, 13.40it/s]\n"
          ]
        },
        {
          "name": "stdout",
          "output_type": "stream",
          "text": [
            "Epoch 19/35, Train Loss: 0.3470, Val Loss: 0.5145\n"
          ]
        },
        {
          "name": "stderr",
          "output_type": "stream",
          "text": [
            "Epoch 20/35 [Train]: 100%|██████████| 365/365 [00:51<00:00,  7.13it/s]\n",
            "Epoch 20/35 [Validate]: 100%|██████████| 182/182 [00:13<00:00, 13.63it/s]\n"
          ]
        },
        {
          "name": "stdout",
          "output_type": "stream",
          "text": [
            "Epoch 20/35, Train Loss: 0.3325, Val Loss: 0.4977\n"
          ]
        },
        {
          "name": "stderr",
          "output_type": "stream",
          "text": [
            "Epoch 21/35 [Train]: 100%|██████████| 365/365 [00:51<00:00,  7.08it/s]\n",
            "Epoch 21/35 [Validate]: 100%|██████████| 182/182 [00:13<00:00, 13.44it/s]\n"
          ]
        },
        {
          "name": "stdout",
          "output_type": "stream",
          "text": [
            "Epoch 21/35, Train Loss: 0.3122, Val Loss: 0.5006\n"
          ]
        },
        {
          "name": "stderr",
          "output_type": "stream",
          "text": [
            "Epoch 22/35 [Train]: 100%|██████████| 365/365 [00:50<00:00,  7.28it/s]\n",
            "Epoch 22/35 [Validate]: 100%|██████████| 182/182 [00:13<00:00, 13.90it/s]\n"
          ]
        },
        {
          "name": "stdout",
          "output_type": "stream",
          "text": [
            "Epoch 22/35, Train Loss: 0.2974, Val Loss: 0.5033\n"
          ]
        },
        {
          "name": "stderr",
          "output_type": "stream",
          "text": [
            "Epoch 23/35 [Train]: 100%|██████████| 365/365 [00:51<00:00,  7.16it/s]\n",
            "Epoch 23/35 [Validate]: 100%|██████████| 182/182 [00:12<00:00, 14.01it/s]\n"
          ]
        },
        {
          "name": "stdout",
          "output_type": "stream",
          "text": [
            "Epoch 23/35, Train Loss: 0.2903, Val Loss: 0.4866\n"
          ]
        },
        {
          "name": "stderr",
          "output_type": "stream",
          "text": [
            "Epoch 24/35 [Train]: 100%|██████████| 365/365 [00:51<00:00,  7.12it/s]\n",
            "Epoch 24/35 [Validate]: 100%|██████████| 182/182 [00:13<00:00, 13.81it/s]\n"
          ]
        },
        {
          "name": "stdout",
          "output_type": "stream",
          "text": [
            "Epoch 24/35, Train Loss: 0.2749, Val Loss: 0.4911\n"
          ]
        },
        {
          "name": "stderr",
          "output_type": "stream",
          "text": [
            "Epoch 25/35 [Train]: 100%|██████████| 365/365 [00:49<00:00,  7.40it/s]\n",
            "Epoch 25/35 [Validate]: 100%|██████████| 182/182 [00:13<00:00, 13.77it/s]\n"
          ]
        },
        {
          "name": "stdout",
          "output_type": "stream",
          "text": [
            "Epoch 25/35, Train Loss: 0.2673, Val Loss: 0.4789\n"
          ]
        },
        {
          "name": "stderr",
          "output_type": "stream",
          "text": [
            "Epoch 26/35 [Train]: 100%|██████████| 365/365 [00:48<00:00,  7.49it/s]\n",
            "Epoch 26/35 [Validate]: 100%|██████████| 182/182 [00:13<00:00, 13.96it/s]\n"
          ]
        },
        {
          "name": "stdout",
          "output_type": "stream",
          "text": [
            "Epoch 26/35, Train Loss: 0.2411, Val Loss: 0.4765\n"
          ]
        },
        {
          "name": "stderr",
          "output_type": "stream",
          "text": [
            "Epoch 27/35 [Train]: 100%|██████████| 365/365 [00:48<00:00,  7.49it/s]\n",
            "Epoch 27/35 [Validate]: 100%|██████████| 182/182 [00:13<00:00, 13.96it/s]\n"
          ]
        },
        {
          "name": "stdout",
          "output_type": "stream",
          "text": [
            "Epoch 27/35, Train Loss: 0.2315, Val Loss: 0.4737\n"
          ]
        },
        {
          "name": "stderr",
          "output_type": "stream",
          "text": [
            "Epoch 28/35 [Train]: 100%|██████████| 365/365 [00:49<00:00,  7.40it/s]\n",
            "Epoch 28/35 [Validate]: 100%|██████████| 182/182 [00:13<00:00, 13.99it/s]\n"
          ]
        },
        {
          "name": "stdout",
          "output_type": "stream",
          "text": [
            "Epoch 28/35, Train Loss: 0.2347, Val Loss: 0.4743\n"
          ]
        },
        {
          "name": "stderr",
          "output_type": "stream",
          "text": [
            "Epoch 29/35 [Train]: 100%|██████████| 365/365 [00:48<00:00,  7.45it/s]\n",
            "Epoch 29/35 [Validate]: 100%|██████████| 182/182 [00:12<00:00, 14.10it/s]\n"
          ]
        },
        {
          "name": "stdout",
          "output_type": "stream",
          "text": [
            "Epoch 29/35, Train Loss: 0.2210, Val Loss: 0.4709\n"
          ]
        },
        {
          "name": "stderr",
          "output_type": "stream",
          "text": [
            "Epoch 30/35 [Train]: 100%|██████████| 365/365 [00:48<00:00,  7.47it/s]\n",
            "Epoch 30/35 [Validate]: 100%|██████████| 182/182 [00:13<00:00, 13.71it/s]\n"
          ]
        },
        {
          "name": "stdout",
          "output_type": "stream",
          "text": [
            "Epoch 30/35, Train Loss: 0.2210, Val Loss: 0.4980\n"
          ]
        },
        {
          "name": "stderr",
          "output_type": "stream",
          "text": [
            "Epoch 31/35 [Train]: 100%|██████████| 365/365 [00:48<00:00,  7.54it/s]\n",
            "Epoch 31/35 [Validate]: 100%|██████████| 182/182 [00:12<00:00, 14.34it/s]\n"
          ]
        },
        {
          "name": "stdout",
          "output_type": "stream",
          "text": [
            "Epoch 31/35, Train Loss: 0.2067, Val Loss: 0.4660\n"
          ]
        },
        {
          "name": "stderr",
          "output_type": "stream",
          "text": [
            "Epoch 32/35 [Train]: 100%|██████████| 365/365 [00:48<00:00,  7.49it/s]\n",
            "Epoch 32/35 [Validate]: 100%|██████████| 182/182 [00:13<00:00, 13.93it/s]\n"
          ]
        },
        {
          "name": "stdout",
          "output_type": "stream",
          "text": [
            "Epoch 32/35, Train Loss: 0.1958, Val Loss: 0.4901\n"
          ]
        },
        {
          "name": "stderr",
          "output_type": "stream",
          "text": [
            "Epoch 33/35 [Train]: 100%|██████████| 365/365 [00:49<00:00,  7.44it/s]\n",
            "Epoch 33/35 [Validate]: 100%|██████████| 182/182 [00:12<00:00, 14.01it/s]\n"
          ]
        },
        {
          "name": "stdout",
          "output_type": "stream",
          "text": [
            "Epoch 33/35, Train Loss: 0.2008, Val Loss: 0.4934\n"
          ]
        },
        {
          "name": "stderr",
          "output_type": "stream",
          "text": [
            "Epoch 34/35 [Train]: 100%|██████████| 365/365 [00:51<00:00,  7.15it/s]\n",
            "Epoch 34/35 [Validate]: 100%|██████████| 182/182 [00:13<00:00, 13.97it/s]\n"
          ]
        },
        {
          "name": "stdout",
          "output_type": "stream",
          "text": [
            "Epoch 34/35, Train Loss: 0.1892, Val Loss: 0.4740\n"
          ]
        },
        {
          "name": "stderr",
          "output_type": "stream",
          "text": [
            "Epoch 35/35 [Train]: 100%|██████████| 365/365 [00:48<00:00,  7.48it/s]\n",
            "Epoch 35/35 [Validate]: 100%|██████████| 182/182 [00:13<00:00, 13.59it/s]\n"
          ]
        },
        {
          "name": "stdout",
          "output_type": "stream",
          "text": [
            "Epoch 35/35, Train Loss: 0.1761, Val Loss: 0.4690\n"
          ]
        },
        {
          "name": "stderr",
          "output_type": "stream",
          "text": [
            "Testing: 100%|██████████| 183/183 [03:58<00:00,  1.30s/it]\n",
            "c:\\Users\\chbha\\anaconda3\\Lib\\site-packages\\sklearn\\metrics\\_classification.py:1531: UndefinedMetricWarning: Precision is ill-defined and being set to 0.0 in labels with no predicted samples. Use `zero_division` parameter to control this behavior.\n",
            "  _warn_prf(average, modifier, f\"{metric.capitalize()} is\", len(result))\n"
          ]
        },
        {
          "data": {
            "text/plain": [
              "{'Pixel Accuracy': 0.8307937480832497,\n",
              " 'Mean IoU': 0.3603690230933402,\n",
              " 'F1 Score': 0.6659434078941026,\n",
              " 'Dice Score': {'Class 0': 0.4953809127094326,\n",
              "  'Class 1': 1.0,\n",
              "  'Class 2': 1.0,\n",
              "  'Class 3': 1.0,\n",
              "  'Class 4': 1.0,\n",
              "  'Class 5': 1.0,\n",
              "  'Class 6': 1.0,\n",
              "  'Class 7': 0.0,\n",
              "  'Class 8': 1.0,\n",
              "  'Class 9': 1.0,\n",
              "  'Class 10': 1.0,\n",
              "  'Class 11': 1.0,\n",
              "  'Class 12': 1.0,\n",
              "  'Class 13': 1.0,\n",
              "  'Class 14': 1.0,\n",
              "  'Class 15': 0.390553177999683,\n",
              "  'Class 16': 1.0,\n",
              "  'Class 17': 1.0,\n",
              "  'Class 18': 1.0,\n",
              "  'Class 19': 1.0,\n",
              "  'Class 20': 1.0,\n",
              "  'Mean Dice Score': 0.8993301947956721},\n",
              " 'Loss': 0.4668815824829164}"
            ]
          },
          "execution_count": 71,
          "metadata": {},
          "output_type": "execute_result"
        }
      ],
      "source": [
        "print(\"Training EfficientNet-based SegNet\")\n",
        "train_and_evaluate(efficientnet_segnet, train_loader, val_loader, test_loader, criterion, optimizer_eff, num_epochs=35, device = device)"
      ]
    },
    {
      "cell_type": "code",
      "execution_count": null,
      "metadata": {
        "id": "zlAr9WbvxKWd"
      },
      "outputs": [],
      "source": [
        "def visualize_segmentation(model, dataloader):\n",
        "    model.eval()\n",
        "    with torch.no_grad():\n",
        "        for images, masks in dataloader:\n",
        "            images, masks = images.to(device), masks.to(device)\n",
        "            outputs, _= model(images)\n",
        "            outputs = torch.argmax(outputs, dim=1).cpu().numpy()\n",
        "\n",
        "            fig, axes = plt.subplots(1, 3, figsize=(15, 5))\n",
        "\n",
        "            axes[0].imshow(images[0].permute(1, 2, 0).cpu().numpy())\n",
        "            axes[0].set_title(\"Input Image\")\n",
        "\n",
        "            axes[1].imshow(masks[0].cpu().numpy(), cmap=\"jet\")\n",
        "            axes[1].set_title(\"Ground Truth Mask\")\n",
        "\n",
        "            axes[2].imshow(outputs[0], cmap=\"jet\")\n",
        "            axes[2].set_title(\"Predicted Mask\")\n",
        "\n",
        "            plt.show()\n",
        "            break\n"
      ]
    },
    {
      "cell_type": "code",
      "execution_count": null,
      "metadata": {
        "id": "A41ymNHSxLh6",
        "outputId": "f8d6ad3c-6f3c-46f8-dbf3-c31dd29ca38e"
      },
      "outputs": [
        {
          "name": "stdout",
          "output_type": "stream",
          "text": [
            "Visualizing Results\n"
          ]
        },
        {
          "name": "stderr",
          "output_type": "stream",
          "text": [
            "Clipping input data to the valid range for imshow with RGB data ([0..1] for floats or [0..255] for integers). Got range [-2.117904..2.5528543].\n"
          ]
        },
        {
          "data": {
            "image/png": "[encoded data removed]",
            "text/plain": [
              "<Figure size 1500x500 with 3 Axes>"
            ]
          },
          "metadata": {},
          "output_type": "display_data"
        },
        {
          "name": "stderr",
          "output_type": "stream",
          "text": [
            "Clipping input data to the valid range for imshow with RGB data ([0..1] for floats or [0..255] for integers). Got range [-2.117904..2.5528543].\n"
          ]
        },
        {
          "data": {
            "image/png": "[encoded data removed]",
            "text/plain": [
              "<Figure size 1500x500 with 3 Axes>"
            ]
          },
          "metadata": {},
          "output_type": "display_data"
        }
      ],
      "source": [
        "print(\"Visualizing Results\")\n",
        "visualize_segmentation(vgg_segnet, val_loader)\n",
        "visualize_segmentation(efficientnet_segnet, val_loader)"
      ]
    },
    {
      "cell_type": "code",
      "execution_count": null,
      "metadata": {
        "id": "lldLh0yDycsT"
      },
      "outputs": [],
      "source": [
        "def hyperparameter_tuning(train_loader, val_loader, test_loader, model_fn, criterion, learning_rates, batch_sizes, num_epochs=10, device = device):\n",
        "    results = {}\n",
        "\n",
        "    for lr in learning_rates:\n",
        "        for batch_size in batch_sizes:\n",
        "            print(f\"Training with LR: {lr}, Batch Size: {batch_size}\")\n",
        "            model = model_fn().to(device)\n",
        "            optimizer = optim.Adam(model.parameters(), lr=lr)\n",
        "\n",
        "            metrics = train_and_evaluate(model, train_loader, val_loader, test_loader, criterion, optimizer, num_epochs, device = device)\n",
        "            results[(lr, batch_size)] = metrics\n",
        "\n",
        "            print(f\"Metrics: {metrics}\")\n",
        "\n",
        "    return results"
      ]
    },
    {
      "cell_type": "code",
      "execution_count": null,
      "metadata": {
        "id": "muJCL0a3pjTX"
      },
      "outputs": [],
      "source": [
        "vgg_segnet_fn = lambda: SegNet_Vgg(vgg_encoder)\n",
        "efficientnet_segnet_fn = lambda: SegNet_Eff(efficientnet_encoder)"
      ]
    },
    {
      "cell_type": "code",
      "execution_count": null,
      "metadata": {
        "id": "TpuGINZIyckr",
        "outputId": "8c072fe6-93da-478a-d3c4-74fa929af858"
      },
      "outputs": [
        {
          "name": "stdout",
          "output_type": "stream",
          "text": [
            "Training with LR: 0.0001, Batch Size: 16\n"
          ]
        },
        {
          "name": "stderr",
          "output_type": "stream",
          "text": [
            "Epoch 1/10 [Train]: 100%|██████████| 365/365 [01:33<00:00,  3.89it/s]\n",
            "Epoch 1/10 [Validate]: 100%|██████████| 182/182 [00:20<00:00,  8.91it/s]\n"
          ]
        },
        {
          "name": "stdout",
          "output_type": "stream",
          "text": [
            "Epoch 1/10, Train Loss: 2.1500, Val Loss: 1.5998\n"
          ]
        },
        {
          "name": "stderr",
          "output_type": "stream",
          "text": [
            "Epoch 2/10 [Train]: 100%|██████████| 365/365 [01:34<00:00,  3.84it/s]\n",
            "Epoch 2/10 [Validate]: 100%|██████████| 182/182 [00:20<00:00,  8.93it/s]\n"
          ]
        },
        {
          "name": "stdout",
          "output_type": "stream",
          "text": [
            "Epoch 2/10, Train Loss: 1.3607, Val Loss: 1.1747\n"
          ]
        },
        {
          "name": "stderr",
          "output_type": "stream",
          "text": [
            "Epoch 3/10 [Train]: 100%|██████████| 365/365 [01:35<00:00,  3.84it/s]\n",
            "Epoch 3/10 [Validate]: 100%|██████████| 182/182 [00:20<00:00,  8.87it/s]\n"
          ]
        },
        {
          "name": "stdout",
          "output_type": "stream",
          "text": [
            "Epoch 3/10, Train Loss: 1.1244, Val Loss: 1.0753\n"
          ]
        },
        {
          "name": "stderr",
          "output_type": "stream",
          "text": [
            "Epoch 4/10 [Train]: 100%|██████████| 365/365 [01:33<00:00,  3.89it/s]\n",
            "Epoch 4/10 [Validate]: 100%|██████████| 182/182 [00:19<00:00,  9.13it/s]\n"
          ]
        },
        {
          "name": "stdout",
          "output_type": "stream",
          "text": [
            "Epoch 4/10, Train Loss: 1.0197, Val Loss: 1.0453\n"
          ]
        },
        {
          "name": "stderr",
          "output_type": "stream",
          "text": [
            "Epoch 5/10 [Train]: 100%|██████████| 365/365 [01:33<00:00,  3.89it/s]\n",
            "Epoch 5/10 [Validate]: 100%|██████████| 182/182 [00:20<00:00,  8.95it/s]\n"
          ]
        },
        {
          "name": "stdout",
          "output_type": "stream",
          "text": [
            "Epoch 5/10, Train Loss: 0.9457, Val Loss: 0.9854\n"
          ]
        },
        {
          "name": "stderr",
          "output_type": "stream",
          "text": [
            "Epoch 6/10 [Train]: 100%|██████████| 365/365 [01:24<00:00,  4.32it/s]\n",
            "Epoch 6/10 [Validate]: 100%|██████████| 182/182 [00:17<00:00, 10.21it/s]\n"
          ]
        },
        {
          "name": "stdout",
          "output_type": "stream",
          "text": [
            "Epoch 6/10, Train Loss: 0.8654, Val Loss: 0.9671\n"
          ]
        },
        {
          "name": "stderr",
          "output_type": "stream",
          "text": [
            "Epoch 7/10 [Train]: 100%|██████████| 365/365 [01:20<00:00,  4.51it/s]\n",
            "Epoch 7/10 [Validate]: 100%|██████████| 182/182 [00:18<00:00, 10.06it/s]\n"
          ]
        },
        {
          "name": "stdout",
          "output_type": "stream",
          "text": [
            "Epoch 7/10, Train Loss: 0.7988, Val Loss: 0.9257\n"
          ]
        },
        {
          "name": "stderr",
          "output_type": "stream",
          "text": [
            "Epoch 8/10 [Train]: 100%|██████████| 365/365 [01:21<00:00,  4.49it/s]\n",
            "Epoch 8/10 [Validate]: 100%|██████████| 182/182 [00:17<00:00, 10.15it/s]\n"
          ]
        },
        {
          "name": "stdout",
          "output_type": "stream",
          "text": [
            "Epoch 8/10, Train Loss: 0.7192, Val Loss: 0.8888\n"
          ]
        },
        {
          "name": "stderr",
          "output_type": "stream",
          "text": [
            "Epoch 9/10 [Train]: 100%|██████████| 365/365 [01:21<00:00,  4.49it/s]\n",
            "Epoch 9/10 [Validate]: 100%|██████████| 182/182 [00:17<00:00, 10.15it/s]\n"
          ]
        },
        {
          "name": "stdout",
          "output_type": "stream",
          "text": [
            "Epoch 9/10, Train Loss: 0.6613, Val Loss: 0.8521\n"
          ]
        },
        {
          "name": "stderr",
          "output_type": "stream",
          "text": [
            "Epoch 10/10 [Train]: 100%|██████████| 365/365 [01:21<00:00,  4.46it/s]\n",
            "Epoch 10/10 [Validate]: 100%|██████████| 182/182 [00:18<00:00, 10.04it/s]\n"
          ]
        },
        {
          "name": "stdout",
          "output_type": "stream",
          "text": [
            "Epoch 10/10, Train Loss: 0.6167, Val Loss: 0.8349\n"
          ]
        },
        {
          "name": "stderr",
          "output_type": "stream",
          "text": [
            "Testing: 100%|██████████| 183/183 [03:54<00:00,  1.28s/it]\n",
            "c:\\Users\\chbha\\anaconda3\\Lib\\site-packages\\sklearn\\metrics\\_classification.py:1531: UndefinedMetricWarning: Precision is ill-defined and being set to 0.0 in labels with no predicted samples. Use `zero_division` parameter to control this behavior.\n",
            "  _warn_prf(average, modifier, f\"{metric.capitalize()} is\", len(result))\n"
          ]
        },
        {
          "name": "stdout",
          "output_type": "stream",
          "text": [
            "Metrics: {'Pixel Accuracy': 0.7557007530214955, 'Mean IoU': 0.19436709684253753, 'F1 Score': 0.21802269836761703, 'Dice Score': {'Class 0': 0.5051040318770924, 'Class 1': 1.0, 'Class 2': 1.0, 'Class 3': 1.0, 'Class 4': 1.0, 'Class 5': 1.0, 'Class 6': 0.0, 'Class 7': 0.0, 'Class 8': 0.0, 'Class 9': 1.0, 'Class 10': 1.0, 'Class 11': 1.0, 'Class 12': 1.0, 'Class 13': 1.0, 'Class 14': 1.0, 'Class 15': 0.4958462492250465, 'Class 16': 1.0, 'Class 17': 1.0, 'Class 18': 1.0, 'Class 19': 1.0, 'Class 20': 1.0, 'Mean Dice Score': 0.8095690610048637}, 'Loss': 0.8336032366817766}\n",
            "Training with LR: 0.0001, Batch Size: 32\n"
          ]
        },
        {
          "name": "stderr",
          "output_type": "stream",
          "text": [
            "Epoch 1/10 [Train]: 100%|██████████| 365/365 [01:20<00:00,  4.53it/s]\n",
            "Epoch 1/10 [Validate]: 100%|██████████| 182/182 [00:18<00:00, 10.01it/s]\n"
          ]
        },
        {
          "name": "stdout",
          "output_type": "stream",
          "text": [
            "Epoch 1/10, Train Loss: 1.9719, Val Loss: 1.3715\n"
          ]
        },
        {
          "name": "stderr",
          "output_type": "stream",
          "text": [
            "Epoch 2/10 [Train]: 100%|██████████| 365/365 [01:44<00:00,  3.49it/s]\n",
            "Epoch 2/10 [Validate]: 100%|██████████| 182/182 [00:22<00:00,  8.12it/s]\n"
          ]
        },
        {
          "name": "stdout",
          "output_type": "stream",
          "text": [
            "Epoch 2/10, Train Loss: 1.0435, Val Loss: 1.0573\n"
          ]
        },
        {
          "name": "stderr",
          "output_type": "stream",
          "text": [
            "Epoch 3/10 [Train]: 100%|██████████| 365/365 [01:43<00:00,  3.54it/s]\n",
            "Epoch 3/10 [Validate]: 100%|██████████| 182/182 [00:22<00:00,  7.92it/s]\n"
          ]
        },
        {
          "name": "stdout",
          "output_type": "stream",
          "text": [
            "Epoch 3/10, Train Loss: 0.8038, Val Loss: 0.9639\n"
          ]
        },
        {
          "name": "stderr",
          "output_type": "stream",
          "text": [
            "Epoch 4/10 [Train]: 100%|██████████| 365/365 [01:34<00:00,  3.87it/s]\n",
            "Epoch 4/10 [Validate]: 100%|██████████| 182/182 [00:26<00:00,  6.76it/s]\n"
          ]
        },
        {
          "name": "stdout",
          "output_type": "stream",
          "text": [
            "Epoch 4/10, Train Loss: 0.6980, Val Loss: 0.9123\n"
          ]
        },
        {
          "name": "stderr",
          "output_type": "stream",
          "text": [
            "Epoch 5/10 [Train]: 100%|██████████| 365/365 [01:34<00:00,  3.85it/s]\n",
            "Epoch 5/10 [Validate]: 100%|██████████| 182/182 [00:26<00:00,  7.00it/s]\n"
          ]
        },
        {
          "name": "stdout",
          "output_type": "stream",
          "text": [
            "Epoch 5/10, Train Loss: 0.6358, Val Loss: 0.9023\n"
          ]
        },
        {
          "name": "stderr",
          "output_type": "stream",
          "text": [
            "Epoch 6/10 [Train]: 100%|██████████| 365/365 [01:34<00:00,  3.84it/s]\n",
            "Epoch 6/10 [Validate]: 100%|██████████| 182/182 [00:25<00:00,  7.08it/s]\n"
          ]
        },
        {
          "name": "stdout",
          "output_type": "stream",
          "text": [
            "Epoch 6/10, Train Loss: 0.6006, Val Loss: 0.8915\n"
          ]
        },
        {
          "name": "stderr",
          "output_type": "stream",
          "text": [
            "Epoch 7/10 [Train]: 100%|██████████| 365/365 [01:34<00:00,  3.86it/s]\n",
            "Epoch 7/10 [Validate]: 100%|██████████| 182/182 [00:26<00:00,  6.99it/s]\n"
          ]
        },
        {
          "name": "stdout",
          "output_type": "stream",
          "text": [
            "Epoch 7/10, Train Loss: 0.5462, Val Loss: 0.8410\n"
          ]
        },
        {
          "name": "stderr",
          "output_type": "stream",
          "text": [
            "Epoch 8/10 [Train]: 100%|██████████| 365/365 [01:35<00:00,  3.84it/s]\n",
            "Epoch 8/10 [Validate]: 100%|██████████| 182/182 [00:24<00:00,  7.34it/s]\n"
          ]
        },
        {
          "name": "stdout",
          "output_type": "stream",
          "text": [
            "Epoch 8/10, Train Loss: 0.5116, Val Loss: 0.8514\n"
          ]
        },
        {
          "name": "stderr",
          "output_type": "stream",
          "text": [
            "Epoch 9/10 [Train]: 100%|██████████| 365/365 [01:22<00:00,  4.42it/s]\n",
            "Epoch 9/10 [Validate]: 100%|██████████| 182/182 [00:24<00:00,  7.38it/s]\n"
          ]
        },
        {
          "name": "stdout",
          "output_type": "stream",
          "text": [
            "Epoch 9/10, Train Loss: 0.4825, Val Loss: 0.8424\n"
          ]
        },
        {
          "name": "stderr",
          "output_type": "stream",
          "text": [
            "Epoch 10/10 [Train]: 100%|██████████| 365/365 [01:22<00:00,  4.42it/s]\n",
            "Epoch 10/10 [Validate]: 100%|██████████| 182/182 [00:24<00:00,  7.35it/s]\n"
          ]
        },
        {
          "name": "stdout",
          "output_type": "stream",
          "text": [
            "Epoch 10/10, Train Loss: 0.4712, Val Loss: 0.8800\n"
          ]
        },
        {
          "name": "stderr",
          "output_type": "stream",
          "text": [
            "Testing: 100%|██████████| 183/183 [03:57<00:00,  1.30s/it]\n",
            "c:\\Users\\chbha\\anaconda3\\Lib\\site-packages\\sklearn\\metrics\\_classification.py:1531: UndefinedMetricWarning: Precision is ill-defined and being set to 0.0 in labels with no predicted samples. Use `zero_division` parameter to control this behavior.\n",
            "  _warn_prf(average, modifier, f\"{metric.capitalize()} is\", len(result))\n"
          ]
        },
        {
          "name": "stdout",
          "output_type": "stream",
          "text": [
            "Metrics: {'Pixel Accuracy': 0.758770208102452, 'Mean IoU': 0.19243306130057264, 'F1 Score': 0.25343740614579907, 'Dice Score': {'Class 0': 0.4331274849843499, 'Class 1': 1.0, 'Class 2': 1.0, 'Class 3': 1.0, 'Class 4': 1.0, 'Class 5': 1.0, 'Class 6': 1.0, 'Class 7': 1.0, 'Class 8': 1.0, 'Class 9': 1.0, 'Class 10': 1.0, 'Class 11': 1.0, 'Class 12': 1.0, 'Class 13': 1.0, 'Class 14': 1.0, 'Class 15': 0.4735932096824898, 'Class 16': 1.0, 'Class 17': 1.0, 'Class 18': 1.0, 'Class 19': 1.0, 'Class 20': 1.0, 'Mean Dice Score': 0.9479390806984208}, 'Loss': 0.900035826560578}\n",
            "Training with LR: 0.001, Batch Size: 16\n"
          ]
        },
        {
          "name": "stderr",
          "output_type": "stream",
          "text": [
            "Epoch 1/10 [Train]: 100%|██████████| 365/365 [01:21<00:00,  4.46it/s]\n",
            "Epoch 1/10 [Validate]: 100%|██████████| 182/182 [00:24<00:00,  7.35it/s]\n"
          ]
        },
        {
          "name": "stdout",
          "output_type": "stream",
          "text": [
            "Epoch 1/10, Train Loss: 1.3826, Val Loss: 1.2258\n"
          ]
        },
        {
          "name": "stderr",
          "output_type": "stream",
          "text": [
            "Epoch 2/10 [Train]: 100%|██████████| 365/365 [01:22<00:00,  4.45it/s]\n",
            "Epoch 2/10 [Validate]: 100%|██████████| 182/182 [00:24<00:00,  7.37it/s]\n"
          ]
        },
        {
          "name": "stdout",
          "output_type": "stream",
          "text": [
            "Epoch 2/10, Train Loss: 1.2211, Val Loss: 1.2401\n"
          ]
        },
        {
          "name": "stderr",
          "output_type": "stream",
          "text": [
            "Epoch 3/10 [Train]: 100%|██████████| 365/365 [01:22<00:00,  4.42it/s]\n",
            "Epoch 3/10 [Validate]: 100%|██████████| 182/182 [00:24<00:00,  7.42it/s]\n"
          ]
        },
        {
          "name": "stdout",
          "output_type": "stream",
          "text": [
            "Epoch 3/10, Train Loss: 1.2080, Val Loss: 1.1950\n"
          ]
        },
        {
          "name": "stderr",
          "output_type": "stream",
          "text": [
            "Epoch 4/10 [Train]: 100%|██████████| 365/365 [01:22<00:00,  4.42it/s]\n",
            "Epoch 4/10 [Validate]: 100%|██████████| 182/182 [00:24<00:00,  7.37it/s]\n"
          ]
        },
        {
          "name": "stdout",
          "output_type": "stream",
          "text": [
            "Epoch 4/10, Train Loss: 1.1891, Val Loss: 1.2316\n"
          ]
        },
        {
          "name": "stderr",
          "output_type": "stream",
          "text": [
            "Epoch 5/10 [Train]: 100%|██████████| 365/365 [01:22<00:00,  4.44it/s]\n",
            "Epoch 5/10 [Validate]: 100%|██████████| 182/182 [00:24<00:00,  7.40it/s]\n"
          ]
        },
        {
          "name": "stdout",
          "output_type": "stream",
          "text": [
            "Epoch 5/10, Train Loss: 1.1853, Val Loss: 1.1756\n"
          ]
        },
        {
          "name": "stderr",
          "output_type": "stream",
          "text": [
            "Epoch 6/10 [Train]: 100%|██████████| 365/365 [01:22<00:00,  4.43it/s]\n",
            "Epoch 6/10 [Validate]: 100%|██████████| 182/182 [00:24<00:00,  7.37it/s]\n"
          ]
        },
        {
          "name": "stdout",
          "output_type": "stream",
          "text": [
            "Epoch 6/10, Train Loss: 1.1770, Val Loss: 1.1612\n"
          ]
        },
        {
          "name": "stderr",
          "output_type": "stream",
          "text": [
            "Epoch 7/10 [Train]: 100%|██████████| 365/365 [01:22<00:00,  4.42it/s]\n",
            "Epoch 7/10 [Validate]: 100%|██████████| 182/182 [00:24<00:00,  7.40it/s]\n"
          ]
        },
        {
          "name": "stdout",
          "output_type": "stream",
          "text": [
            "Epoch 7/10, Train Loss: 1.1714, Val Loss: 1.1655\n"
          ]
        },
        {
          "name": "stderr",
          "output_type": "stream",
          "text": [
            "Epoch 8/10 [Train]: 100%|██████████| 365/365 [01:22<00:00,  4.44it/s]\n",
            "Epoch 8/10 [Validate]: 100%|██████████| 182/182 [00:24<00:00,  7.44it/s]\n"
          ]
        },
        {
          "name": "stdout",
          "output_type": "stream",
          "text": [
            "Epoch 8/10, Train Loss: 1.1634, Val Loss: 1.1469\n"
          ]
        },
        {
          "name": "stderr",
          "output_type": "stream",
          "text": [
            "Epoch 9/10 [Train]: 100%|██████████| 365/365 [01:22<00:00,  4.44it/s]\n",
            "Epoch 9/10 [Validate]: 100%|██████████| 182/182 [00:24<00:00,  7.39it/s]\n"
          ]
        },
        {
          "name": "stdout",
          "output_type": "stream",
          "text": [
            "Epoch 9/10, Train Loss: 1.1511, Val Loss: 1.1648\n"
          ]
        },
        {
          "name": "stderr",
          "output_type": "stream",
          "text": [
            "Epoch 10/10 [Train]: 100%|██████████| 365/365 [01:22<00:00,  4.42it/s]\n",
            "Epoch 10/10 [Validate]: 100%|██████████| 182/182 [00:24<00:00,  7.38it/s]\n"
          ]
        },
        {
          "name": "stdout",
          "output_type": "stream",
          "text": [
            "Epoch 10/10, Train Loss: 1.1408, Val Loss: 1.1325\n"
          ]
        },
        {
          "name": "stderr",
          "output_type": "stream",
          "text": [
            "Testing: 100%|██████████| 183/183 [03:57<00:00,  1.30s/it]\n",
            "c:\\Users\\chbha\\anaconda3\\Lib\\site-packages\\sklearn\\metrics\\_classification.py:1531: UndefinedMetricWarning: Precision is ill-defined and being set to 0.0 in labels with no predicted samples. Use `zero_division` parameter to control this behavior.\n",
            "  _warn_prf(average, modifier, f\"{metric.capitalize()} is\", len(result))\n"
          ]
        },
        {
          "name": "stdout",
          "output_type": "stream",
          "text": [
            "Metrics: {'Pixel Accuracy': 0.699561396343886, 'Mean IoU': 0.20826176683038694, 'F1 Score': 0.05431401735413492, 'Dice Score': {'Class 0': 0.5117735558587873, 'Class 1': 1.0, 'Class 2': 1.0, 'Class 3': 1.0, 'Class 4': 1.0, 'Class 5': 1.0, 'Class 6': 1.0, 'Class 7': 1.0, 'Class 8': 1.0, 'Class 9': 1.0, 'Class 10': 1.0, 'Class 11': 1.0, 'Class 12': 1.0, 'Class 13': 1.0, 'Class 14': 1.0, 'Class 15': 0.3383392656882344, 'Class 16': 1.0, 'Class 17': 1.0, 'Class 18': 1.0, 'Class 19': 1.0, 'Class 20': 1.0, 'Mean Dice Score': 0.9452434676927153}, 'Loss': 1.1295253067720132}\n",
            "Training with LR: 0.001, Batch Size: 32\n"
          ]
        },
        {
          "name": "stderr",
          "output_type": "stream",
          "text": [
            "Epoch 1/10 [Train]: 100%|██████████| 365/365 [01:21<00:00,  4.46it/s]\n",
            "Epoch 1/10 [Validate]: 100%|██████████| 182/182 [00:23<00:00,  7.64it/s]\n"
          ]
        },
        {
          "name": "stdout",
          "output_type": "stream",
          "text": [
            "Epoch 1/10, Train Loss: 1.3047, Val Loss: 1.1796\n"
          ]
        },
        {
          "name": "stderr",
          "output_type": "stream",
          "text": [
            "Epoch 2/10 [Train]: 100%|██████████| 365/365 [01:22<00:00,  4.44it/s]\n",
            "Epoch 2/10 [Validate]: 100%|██████████| 182/182 [00:24<00:00,  7.44it/s]\n"
          ]
        },
        {
          "name": "stdout",
          "output_type": "stream",
          "text": [
            "Epoch 2/10, Train Loss: 1.1457, Val Loss: 1.1801\n"
          ]
        },
        {
          "name": "stderr",
          "output_type": "stream",
          "text": [
            "Epoch 3/10 [Train]: 100%|██████████| 365/365 [01:22<00:00,  4.43it/s]\n",
            "Epoch 3/10 [Validate]: 100%|██████████| 182/182 [00:24<00:00,  7.37it/s]\n"
          ]
        },
        {
          "name": "stdout",
          "output_type": "stream",
          "text": [
            "Epoch 3/10, Train Loss: 1.1268, Val Loss: 1.1174\n"
          ]
        },
        {
          "name": "stderr",
          "output_type": "stream",
          "text": [
            "Epoch 4/10 [Train]: 100%|██████████| 365/365 [01:22<00:00,  4.42it/s]\n",
            "Epoch 4/10 [Validate]: 100%|██████████| 182/182 [00:24<00:00,  7.46it/s]\n"
          ]
        },
        {
          "name": "stdout",
          "output_type": "stream",
          "text": [
            "Epoch 4/10, Train Loss: 1.1021, Val Loss: 1.1452\n"
          ]
        },
        {
          "name": "stderr",
          "output_type": "stream",
          "text": [
            "Epoch 5/10 [Train]: 100%|██████████| 365/365 [01:22<00:00,  4.42it/s]\n",
            "Epoch 5/10 [Validate]: 100%|██████████| 182/182 [00:24<00:00,  7.32it/s]\n"
          ]
        },
        {
          "name": "stdout",
          "output_type": "stream",
          "text": [
            "Epoch 5/10, Train Loss: 1.0833, Val Loss: 1.0869\n"
          ]
        },
        {
          "name": "stderr",
          "output_type": "stream",
          "text": [
            "Epoch 6/10 [Train]: 100%|██████████| 365/365 [01:22<00:00,  4.44it/s]\n",
            "Epoch 6/10 [Validate]: 100%|██████████| 182/182 [00:24<00:00,  7.45it/s]\n"
          ]
        },
        {
          "name": "stdout",
          "output_type": "stream",
          "text": [
            "Epoch 6/10, Train Loss: 1.0654, Val Loss: 1.1039\n"
          ]
        },
        {
          "name": "stderr",
          "output_type": "stream",
          "text": [
            "Epoch 7/10 [Train]: 100%|██████████| 365/365 [01:22<00:00,  4.43it/s]\n",
            "Epoch 7/10 [Validate]: 100%|██████████| 182/182 [00:24<00:00,  7.36it/s]\n"
          ]
        },
        {
          "name": "stdout",
          "output_type": "stream",
          "text": [
            "Epoch 7/10, Train Loss: 1.0542, Val Loss: 1.0863\n"
          ]
        },
        {
          "name": "stderr",
          "output_type": "stream",
          "text": [
            "Epoch 8/10 [Train]: 100%|██████████| 365/365 [01:22<00:00,  4.44it/s]\n",
            "Epoch 8/10 [Validate]: 100%|██████████| 182/182 [00:24<00:00,  7.39it/s]\n"
          ]
        },
        {
          "name": "stdout",
          "output_type": "stream",
          "text": [
            "Epoch 8/10, Train Loss: 1.0339, Val Loss: 1.0743\n"
          ]
        },
        {
          "name": "stderr",
          "output_type": "stream",
          "text": [
            "Epoch 9/10 [Train]: 100%|██████████| 365/365 [01:21<00:00,  4.46it/s]\n",
            "Epoch 9/10 [Validate]: 100%|██████████| 182/182 [00:24<00:00,  7.36it/s]\n"
          ]
        },
        {
          "name": "stdout",
          "output_type": "stream",
          "text": [
            "Epoch 9/10, Train Loss: 1.0132, Val Loss: 1.0961\n"
          ]
        },
        {
          "name": "stderr",
          "output_type": "stream",
          "text": [
            "Epoch 10/10 [Train]: 100%|██████████| 365/365 [01:22<00:00,  4.43it/s]\n",
            "Epoch 10/10 [Validate]: 100%|██████████| 182/182 [00:24<00:00,  7.39it/s]\n"
          ]
        },
        {
          "name": "stdout",
          "output_type": "stream",
          "text": [
            "Epoch 10/10, Train Loss: 1.0014, Val Loss: 1.0571\n"
          ]
        },
        {
          "name": "stderr",
          "output_type": "stream",
          "text": [
            "Testing: 100%|██████████| 183/183 [03:57<00:00,  1.30s/it]\n",
            "c:\\Users\\chbha\\anaconda3\\Lib\\site-packages\\sklearn\\metrics\\_classification.py:1531: UndefinedMetricWarning: Precision is ill-defined and being set to 0.0 in labels with no predicted samples. Use `zero_division` parameter to control this behavior.\n",
            "  _warn_prf(average, modifier, f\"{metric.capitalize()} is\", len(result))\n"
          ]
        },
        {
          "name": "stdout",
          "output_type": "stream",
          "text": [
            "Metrics: {'Pixel Accuracy': 0.7125968639569045, 'Mean IoU': 0.19887574651683765, 'F1 Score': 0.10806598862051651, 'Dice Score': {'Class 0': 0.5688211595726047, 'Class 1': 1.0, 'Class 2': 1.0, 'Class 3': 1.0, 'Class 4': 1.0, 'Class 5': 1.0, 'Class 6': 1.0, 'Class 7': 1.0, 'Class 8': 0.0, 'Class 9': 1.0, 'Class 10': 1.0, 'Class 11': 1.0, 'Class 12': 1.0, 'Class 13': 1.0, 'Class 14': 1.0, 'Class 15': 0.4277991107518189, 'Class 16': 1.0, 'Class 17': 1.0, 'Class 18': 1.0, 'Class 19': 1.0, 'Class 20': 1.0, 'Mean Dice Score': 0.904600965253544}, 'Loss': 1.0492609514564764}\n",
            "Training with LR: 0.0001, Batch Size: 16\n"
          ]
        },
        {
          "name": "stderr",
          "output_type": "stream",
          "text": [
            "Epoch 1/10 [Train]: 100%|██████████| 365/365 [00:58<00:00,  6.28it/s]\n",
            "Epoch 1/10 [Validate]: 100%|██████████| 182/182 [00:13<00:00, 13.87it/s]\n"
          ]
        },
        {
          "name": "stdout",
          "output_type": "stream",
          "text": [
            "Epoch 1/10, Train Loss: 2.0711, Val Loss: 1.4687\n"
          ]
        },
        {
          "name": "stderr",
          "output_type": "stream",
          "text": [
            "Epoch 2/10 [Train]: 100%|██████████| 365/365 [00:58<00:00,  6.27it/s]\n",
            "Epoch 2/10 [Validate]: 100%|██████████| 182/182 [00:13<00:00, 13.58it/s]\n"
          ]
        },
        {
          "name": "stdout",
          "output_type": "stream",
          "text": [
            "Epoch 2/10, Train Loss: 1.2879, Val Loss: 1.1183\n"
          ]
        },
        {
          "name": "stderr",
          "output_type": "stream",
          "text": [
            "Epoch 3/10 [Train]: 100%|██████████| 365/365 [00:58<00:00,  6.24it/s]\n",
            "Epoch 3/10 [Validate]: 100%|██████████| 182/182 [00:13<00:00, 13.71it/s]\n"
          ]
        },
        {
          "name": "stdout",
          "output_type": "stream",
          "text": [
            "Epoch 3/10, Train Loss: 1.0791, Val Loss: 1.0166\n"
          ]
        },
        {
          "name": "stderr",
          "output_type": "stream",
          "text": [
            "Epoch 4/10 [Train]: 100%|██████████| 365/365 [00:58<00:00,  6.26it/s]\n",
            "Epoch 4/10 [Validate]: 100%|██████████| 182/182 [00:13<00:00, 13.80it/s]\n"
          ]
        },
        {
          "name": "stdout",
          "output_type": "stream",
          "text": [
            "Epoch 4/10, Train Loss: 0.9874, Val Loss: 0.9413\n"
          ]
        },
        {
          "name": "stderr",
          "output_type": "stream",
          "text": [
            "Epoch 5/10 [Train]: 100%|██████████| 365/365 [00:59<00:00,  6.18it/s]\n",
            "Epoch 5/10 [Validate]: 100%|██████████| 182/182 [00:13<00:00, 13.71it/s]\n"
          ]
        },
        {
          "name": "stdout",
          "output_type": "stream",
          "text": [
            "Epoch 5/10, Train Loss: 0.9104, Val Loss: 0.8741\n"
          ]
        },
        {
          "name": "stderr",
          "output_type": "stream",
          "text": [
            "Epoch 6/10 [Train]: 100%|██████████| 365/365 [00:57<00:00,  6.37it/s]\n",
            "Epoch 6/10 [Validate]: 100%|██████████| 182/182 [00:13<00:00, 13.77it/s]\n"
          ]
        },
        {
          "name": "stdout",
          "output_type": "stream",
          "text": [
            "Epoch 6/10, Train Loss: 0.8520, Val Loss: 0.8487\n"
          ]
        },
        {
          "name": "stderr",
          "output_type": "stream",
          "text": [
            "Epoch 7/10 [Train]: 100%|██████████| 365/365 [00:58<00:00,  6.29it/s]\n",
            "Epoch 7/10 [Validate]: 100%|██████████| 182/182 [00:13<00:00, 13.74it/s]\n"
          ]
        },
        {
          "name": "stdout",
          "output_type": "stream",
          "text": [
            "Epoch 7/10, Train Loss: 0.8095, Val Loss: 0.8345\n"
          ]
        },
        {
          "name": "stderr",
          "output_type": "stream",
          "text": [
            "Epoch 8/10 [Train]: 100%|██████████| 365/365 [00:58<00:00,  6.25it/s]\n",
            "Epoch 8/10 [Validate]: 100%|██████████| 182/182 [00:13<00:00, 13.69it/s]\n"
          ]
        },
        {
          "name": "stdout",
          "output_type": "stream",
          "text": [
            "Epoch 8/10, Train Loss: 0.7742, Val Loss: 0.8131\n"
          ]
        },
        {
          "name": "stderr",
          "output_type": "stream",
          "text": [
            "Epoch 9/10 [Train]: 100%|██████████| 365/365 [00:58<00:00,  6.28it/s]\n",
            "Epoch 9/10 [Validate]: 100%|██████████| 182/182 [00:13<00:00, 13.51it/s]\n"
          ]
        },
        {
          "name": "stdout",
          "output_type": "stream",
          "text": [
            "Epoch 9/10, Train Loss: 0.7308, Val Loss: 0.7852\n"
          ]
        },
        {
          "name": "stderr",
          "output_type": "stream",
          "text": [
            "Epoch 10/10 [Train]: 100%|██████████| 365/365 [00:57<00:00,  6.31it/s]\n",
            "Epoch 10/10 [Validate]: 100%|██████████| 182/182 [00:13<00:00, 13.74it/s]\n"
          ]
        },
        {
          "name": "stdout",
          "output_type": "stream",
          "text": [
            "Epoch 10/10, Train Loss: 0.6951, Val Loss: 0.7413\n"
          ]
        },
        {
          "name": "stderr",
          "output_type": "stream",
          "text": [
            "Testing: 100%|██████████| 183/183 [03:55<00:00,  1.29s/it]\n",
            "c:\\Users\\chbha\\anaconda3\\Lib\\site-packages\\sklearn\\metrics\\_classification.py:1531: UndefinedMetricWarning: Precision is ill-defined and being set to 0.0 in labels with no predicted samples. Use `zero_division` parameter to control this behavior.\n",
            "  _warn_prf(average, modifier, f\"{metric.capitalize()} is\", len(result))\n"
          ]
        },
        {
          "name": "stdout",
          "output_type": "stream",
          "text": [
            "Metrics: {'Pixel Accuracy': 0.7565923550196206, 'Mean IoU': 0.23902917822391825, 'F1 Score': 0.22339797744718656, 'Dice Score': {'Class 0': 0.41047944496220357, 'Class 1': 1.0, 'Class 2': 1.0, 'Class 3': 1.0, 'Class 4': 1.0, 'Class 5': 1.0, 'Class 6': 1.0, 'Class 7': 1.0, 'Class 8': 1.0, 'Class 9': 1.0, 'Class 10': 1.0, 'Class 11': 1.0, 'Class 12': 1.0, 'Class 13': 1.0, 'Class 14': 1.0, 'Class 15': 0.4204830143300932, 'Class 16': 1.0, 'Class 17': 1.0, 'Class 18': 1.0, 'Class 19': 1.0, 'Class 20': 1.0, 'Mean Dice Score': 0.9443315456805856}, 'Loss': 0.735386434474278}\n",
            "Training with LR: 0.0001, Batch Size: 32\n"
          ]
        },
        {
          "name": "stderr",
          "output_type": "stream",
          "text": [
            "Epoch 1/10 [Train]: 100%|██████████| 365/365 [00:57<00:00,  6.33it/s]\n",
            "Epoch 1/10 [Validate]: 100%|██████████| 182/182 [00:13<00:00, 13.85it/s]\n"
          ]
        },
        {
          "name": "stdout",
          "output_type": "stream",
          "text": [
            "Epoch 1/10, Train Loss: 2.0991, Val Loss: 1.4182\n"
          ]
        },
        {
          "name": "stderr",
          "output_type": "stream",
          "text": [
            "Epoch 2/10 [Train]: 100%|██████████| 365/365 [00:58<00:00,  6.25it/s]\n",
            "Epoch 2/10 [Validate]: 100%|██████████| 182/182 [00:13<00:00, 13.74it/s]\n"
          ]
        },
        {
          "name": "stdout",
          "output_type": "stream",
          "text": [
            "Epoch 2/10, Train Loss: 1.1402, Val Loss: 1.0537\n"
          ]
        },
        {
          "name": "stderr",
          "output_type": "stream",
          "text": [
            "Epoch 3/10 [Train]: 100%|██████████| 365/365 [00:58<00:00,  6.28it/s]\n",
            "Epoch 3/10 [Validate]: 100%|██████████| 182/182 [00:13<00:00, 13.48it/s]\n"
          ]
        },
        {
          "name": "stdout",
          "output_type": "stream",
          "text": [
            "Epoch 3/10, Train Loss: 0.9183, Val Loss: 0.9690\n"
          ]
        },
        {
          "name": "stderr",
          "output_type": "stream",
          "text": [
            "Epoch 4/10 [Train]: 100%|██████████| 365/365 [00:58<00:00,  6.29it/s]\n",
            "Epoch 4/10 [Validate]: 100%|██████████| 182/182 [00:13<00:00, 13.70it/s]\n"
          ]
        },
        {
          "name": "stdout",
          "output_type": "stream",
          "text": [
            "Epoch 4/10, Train Loss: 0.8336, Val Loss: 0.9050\n"
          ]
        },
        {
          "name": "stderr",
          "output_type": "stream",
          "text": [
            "Epoch 5/10 [Train]: 100%|██████████| 365/365 [00:58<00:00,  6.27it/s]\n",
            "Epoch 5/10 [Validate]: 100%|██████████| 182/182 [00:13<00:00, 13.75it/s]\n"
          ]
        },
        {
          "name": "stdout",
          "output_type": "stream",
          "text": [
            "Epoch 5/10, Train Loss: 0.7762, Val Loss: 0.8659\n"
          ]
        },
        {
          "name": "stderr",
          "output_type": "stream",
          "text": [
            "Epoch 6/10 [Train]: 100%|██████████| 365/365 [00:58<00:00,  6.29it/s]\n",
            "Epoch 6/10 [Validate]: 100%|██████████| 182/182 [00:13<00:00, 13.56it/s]\n"
          ]
        },
        {
          "name": "stdout",
          "output_type": "stream",
          "text": [
            "Epoch 6/10, Train Loss: 0.7260, Val Loss: 0.8248\n"
          ]
        },
        {
          "name": "stderr",
          "output_type": "stream",
          "text": [
            "Epoch 7/10 [Train]: 100%|██████████| 365/365 [00:57<00:00,  6.32it/s]\n",
            "Epoch 7/10 [Validate]: 100%|██████████| 182/182 [00:13<00:00, 13.86it/s]\n"
          ]
        },
        {
          "name": "stdout",
          "output_type": "stream",
          "text": [
            "Epoch 7/10, Train Loss: 0.6819, Val Loss: 0.7908\n"
          ]
        },
        {
          "name": "stderr",
          "output_type": "stream",
          "text": [
            "Epoch 8/10 [Train]: 100%|██████████| 365/365 [00:58<00:00,  6.28it/s]\n",
            "Epoch 8/10 [Validate]: 100%|██████████| 182/182 [00:13<00:00, 13.85it/s]\n"
          ]
        },
        {
          "name": "stdout",
          "output_type": "stream",
          "text": [
            "Epoch 8/10, Train Loss: 0.6429, Val Loss: 0.7536\n"
          ]
        },
        {
          "name": "stderr",
          "output_type": "stream",
          "text": [
            "Epoch 9/10 [Train]: 100%|██████████| 365/365 [00:57<00:00,  6.31it/s]\n",
            "Epoch 9/10 [Validate]: 100%|██████████| 182/182 [00:13<00:00, 13.48it/s]\n"
          ]
        },
        {
          "name": "stdout",
          "output_type": "stream",
          "text": [
            "Epoch 9/10, Train Loss: 0.5905, Val Loss: 0.6961\n"
          ]
        },
        {
          "name": "stderr",
          "output_type": "stream",
          "text": [
            "Epoch 10/10 [Train]: 100%|██████████| 365/365 [00:59<00:00,  6.17it/s]\n",
            "Epoch 10/10 [Validate]: 100%|██████████| 182/182 [00:12<00:00, 14.03it/s]\n"
          ]
        },
        {
          "name": "stdout",
          "output_type": "stream",
          "text": [
            "Epoch 10/10, Train Loss: 0.5472, Val Loss: 0.6664\n"
          ]
        },
        {
          "name": "stderr",
          "output_type": "stream",
          "text": [
            "Testing: 100%|██████████| 183/183 [03:50<00:00,  1.26s/it]\n",
            "c:\\Users\\chbha\\anaconda3\\Lib\\site-packages\\sklearn\\metrics\\_classification.py:1531: UndefinedMetricWarning: Precision is ill-defined and being set to 0.0 in labels with no predicted samples. Use `zero_division` parameter to control this behavior.\n",
            "  _warn_prf(average, modifier, f\"{metric.capitalize()} is\", len(result))\n"
          ]
        },
        {
          "name": "stdout",
          "output_type": "stream",
          "text": [
            "Metrics: {'Pixel Accuracy': 0.7762037328058784, 'Mean IoU': 0.2448006571242339, 'F1 Score': 0.3231753134204403, 'Dice Score': {'Class 0': 0.3895848054645511, 'Class 1': 1.0, 'Class 2': 1.0, 'Class 3': 1.0, 'Class 4': 1.0, 'Class 5': 1.0, 'Class 6': 1.0, 'Class 7': 1.0, 'Class 8': 1.0, 'Class 9': 1.0, 'Class 10': 1.0, 'Class 11': 1.0, 'Class 12': 1.0, 'Class 13': 1.0, 'Class 14': 1.0, 'Class 15': 0.44006293828551446, 'Class 16': 1.0, 'Class 17': 1.0, 'Class 18': 1.0, 'Class 19': 1.0, 'Class 20': 1.0, 'Mean Dice Score': 0.9442689401785745}, 'Loss': 0.6570152272292173}\n",
            "Training with LR: 0.001, Batch Size: 16\n"
          ]
        },
        {
          "name": "stderr",
          "output_type": "stream",
          "text": [
            "Epoch 1/10 [Train]: 100%|██████████| 365/365 [00:56<00:00,  6.44it/s]\n",
            "Epoch 1/10 [Validate]: 100%|██████████| 182/182 [00:12<00:00, 14.03it/s]\n"
          ]
        },
        {
          "name": "stdout",
          "output_type": "stream",
          "text": [
            "Epoch 1/10, Train Loss: 1.2444, Val Loss: 1.0506\n"
          ]
        },
        {
          "name": "stderr",
          "output_type": "stream",
          "text": [
            "Epoch 2/10 [Train]: 100%|██████████| 365/365 [00:57<00:00,  6.38it/s]\n",
            "Epoch 2/10 [Validate]: 100%|██████████| 182/182 [00:12<00:00, 14.06it/s]\n"
          ]
        },
        {
          "name": "stdout",
          "output_type": "stream",
          "text": [
            "Epoch 2/10, Train Loss: 1.0464, Val Loss: 0.9716\n"
          ]
        },
        {
          "name": "stderr",
          "output_type": "stream",
          "text": [
            "Epoch 3/10 [Train]: 100%|██████████| 365/365 [00:56<00:00,  6.46it/s]\n",
            "Epoch 3/10 [Validate]: 100%|██████████| 182/182 [00:13<00:00, 13.67it/s]\n"
          ]
        },
        {
          "name": "stdout",
          "output_type": "stream",
          "text": [
            "Epoch 3/10, Train Loss: 0.9844, Val Loss: 0.9552\n"
          ]
        },
        {
          "name": "stderr",
          "output_type": "stream",
          "text": [
            "Epoch 4/10 [Train]: 100%|██████████| 365/365 [00:56<00:00,  6.45it/s]\n",
            "Epoch 4/10 [Validate]: 100%|██████████| 182/182 [00:13<00:00, 13.97it/s]\n"
          ]
        },
        {
          "name": "stdout",
          "output_type": "stream",
          "text": [
            "Epoch 4/10, Train Loss: 0.9294, Val Loss: 0.9177\n"
          ]
        },
        {
          "name": "stderr",
          "output_type": "stream",
          "text": [
            "Epoch 5/10 [Train]: 100%|██████████| 365/365 [00:57<00:00,  6.38it/s]\n",
            "Epoch 5/10 [Validate]: 100%|██████████| 182/182 [00:13<00:00, 13.95it/s]\n"
          ]
        },
        {
          "name": "stdout",
          "output_type": "stream",
          "text": [
            "Epoch 5/10, Train Loss: 0.9099, Val Loss: 0.9067\n"
          ]
        },
        {
          "name": "stderr",
          "output_type": "stream",
          "text": [
            "Epoch 6/10 [Train]: 100%|██████████| 365/365 [00:56<00:00,  6.41it/s]\n",
            "Epoch 6/10 [Validate]: 100%|██████████| 182/182 [00:13<00:00, 13.75it/s]\n"
          ]
        },
        {
          "name": "stdout",
          "output_type": "stream",
          "text": [
            "Epoch 6/10, Train Loss: 0.8709, Val Loss: 0.9070\n"
          ]
        },
        {
          "name": "stderr",
          "output_type": "stream",
          "text": [
            "Epoch 7/10 [Train]: 100%|██████████| 365/365 [00:56<00:00,  6.45it/s]\n",
            "Epoch 7/10 [Validate]: 100%|██████████| 182/182 [00:12<00:00, 14.13it/s]\n"
          ]
        },
        {
          "name": "stdout",
          "output_type": "stream",
          "text": [
            "Epoch 7/10, Train Loss: 0.8477, Val Loss: 0.8916\n"
          ]
        },
        {
          "name": "stderr",
          "output_type": "stream",
          "text": [
            "Epoch 8/10 [Train]: 100%|██████████| 365/365 [00:56<00:00,  6.44it/s]\n",
            "Epoch 8/10 [Validate]: 100%|██████████| 182/182 [00:13<00:00, 13.99it/s]\n"
          ]
        },
        {
          "name": "stdout",
          "output_type": "stream",
          "text": [
            "Epoch 8/10, Train Loss: 0.8253, Val Loss: 0.8438\n"
          ]
        },
        {
          "name": "stderr",
          "output_type": "stream",
          "text": [
            "Epoch 9/10 [Train]: 100%|██████████| 365/365 [00:57<00:00,  6.39it/s]\n",
            "Epoch 9/10 [Validate]: 100%|██████████| 182/182 [00:12<00:00, 14.08it/s]\n"
          ]
        },
        {
          "name": "stdout",
          "output_type": "stream",
          "text": [
            "Epoch 9/10, Train Loss: 0.7857, Val Loss: 0.8331\n"
          ]
        },
        {
          "name": "stderr",
          "output_type": "stream",
          "text": [
            "Epoch 10/10 [Train]: 100%|██████████| 365/365 [00:56<00:00,  6.46it/s]\n",
            "Epoch 10/10 [Validate]: 100%|██████████| 182/182 [00:12<00:00, 14.08it/s]\n"
          ]
        },
        {
          "name": "stdout",
          "output_type": "stream",
          "text": [
            "Epoch 10/10, Train Loss: 0.7585, Val Loss: 0.8142\n"
          ]
        },
        {
          "name": "stderr",
          "output_type": "stream",
          "text": [
            "Testing: 100%|██████████| 183/183 [03:47<00:00,  1.25s/it]\n",
            "c:\\Users\\chbha\\anaconda3\\Lib\\site-packages\\sklearn\\metrics\\_classification.py:1531: UndefinedMetricWarning: Precision is ill-defined and being set to 0.0 in labels with no predicted samples. Use `zero_division` parameter to control this behavior.\n",
            "  _warn_prf(average, modifier, f\"{metric.capitalize()} is\", len(result))\n"
          ]
        },
        {
          "name": "stdout",
          "output_type": "stream",
          "text": [
            "Metrics: {'Pixel Accuracy': 0.747505365811796, 'Mean IoU': 0.22703707688290176, 'F1 Score': 0.22368394628068203, 'Dice Score': {'Class 0': 0.42689407984179956, 'Class 1': 1.0, 'Class 2': 1.0, 'Class 3': 1.0, 'Class 4': 1.0, 'Class 5': 1.0, 'Class 6': 1.0, 'Class 7': 1.0, 'Class 8': 1.0, 'Class 9': 1.0, 'Class 10': 1.0, 'Class 11': 1.0, 'Class 12': 1.0, 'Class 13': 1.0, 'Class 14': 1.0, 'Class 15': 0.43256638594511826, 'Class 16': 1.0, 'Class 17': 1.0, 'Class 18': 1.0, 'Class 19': 1.0, 'Class 20': 1.0, 'Mean Dice Score': 0.9456885936089008}, 'Loss': 0.8298653429323207}\n",
            "Training with LR: 0.001, Batch Size: 32\n"
          ]
        },
        {
          "name": "stderr",
          "output_type": "stream",
          "text": [
            "Epoch 1/10 [Train]: 100%|██████████| 365/365 [00:55<00:00,  6.59it/s]\n",
            "Epoch 1/10 [Validate]: 100%|██████████| 182/182 [00:16<00:00, 11.11it/s]\n"
          ]
        },
        {
          "name": "stdout",
          "output_type": "stream",
          "text": [
            "Epoch 1/10, Train Loss: 1.1056, Val Loss: 0.9883\n"
          ]
        },
        {
          "name": "stderr",
          "output_type": "stream",
          "text": [
            "Epoch 2/10 [Train]: 100%|██████████| 365/365 [00:54<00:00,  6.75it/s]\n",
            "Epoch 2/10 [Validate]: 100%|██████████| 182/182 [00:10<00:00, 16.60it/s]\n"
          ]
        },
        {
          "name": "stdout",
          "output_type": "stream",
          "text": [
            "Epoch 2/10, Train Loss: 0.8463, Val Loss: 0.8855\n"
          ]
        },
        {
          "name": "stderr",
          "output_type": "stream",
          "text": [
            "Epoch 3/10 [Train]: 100%|██████████| 365/365 [00:47<00:00,  7.62it/s]\n",
            "Epoch 3/10 [Validate]: 100%|██████████| 182/182 [00:10<00:00, 16.93it/s]\n"
          ]
        },
        {
          "name": "stdout",
          "output_type": "stream",
          "text": [
            "Epoch 3/10, Train Loss: 0.7905, Val Loss: 0.8499\n"
          ]
        },
        {
          "name": "stderr",
          "output_type": "stream",
          "text": [
            "Epoch 4/10 [Train]: 100%|██████████| 365/365 [00:48<00:00,  7.59it/s]\n",
            "Epoch 4/10 [Validate]: 100%|██████████| 182/182 [00:10<00:00, 16.56it/s]\n"
          ]
        },
        {
          "name": "stdout",
          "output_type": "stream",
          "text": [
            "Epoch 4/10, Train Loss: 0.7626, Val Loss: 0.8470\n"
          ]
        },
        {
          "name": "stderr",
          "output_type": "stream",
          "text": [
            "Epoch 5/10 [Train]: 100%|██████████| 365/365 [00:48<00:00,  7.56it/s]\n",
            "Epoch 5/10 [Validate]: 100%|██████████| 182/182 [00:10<00:00, 16.78it/s]\n"
          ]
        },
        {
          "name": "stdout",
          "output_type": "stream",
          "text": [
            "Epoch 5/10, Train Loss: 0.7372, Val Loss: 0.9216\n"
          ]
        },
        {
          "name": "stderr",
          "output_type": "stream",
          "text": [
            "Epoch 6/10 [Train]: 100%|██████████| 365/365 [00:44<00:00,  8.27it/s]\n",
            "Epoch 6/10 [Validate]: 100%|██████████| 182/182 [00:10<00:00, 17.12it/s]\n"
          ]
        },
        {
          "name": "stdout",
          "output_type": "stream",
          "text": [
            "Epoch 6/10, Train Loss: 0.7030, Val Loss: 0.8461\n"
          ]
        },
        {
          "name": "stderr",
          "output_type": "stream",
          "text": [
            "Epoch 7/10 [Train]: 100%|██████████| 365/365 [00:50<00:00,  7.24it/s]\n",
            "Epoch 7/10 [Validate]: 100%|██████████| 182/182 [00:11<00:00, 15.70it/s]\n"
          ]
        },
        {
          "name": "stdout",
          "output_type": "stream",
          "text": [
            "Epoch 7/10, Train Loss: 0.6810, Val Loss: 0.8066\n"
          ]
        },
        {
          "name": "stderr",
          "output_type": "stream",
          "text": [
            "Epoch 8/10 [Train]: 100%|██████████| 365/365 [00:48<00:00,  7.45it/s]\n",
            "Epoch 8/10 [Validate]: 100%|██████████| 182/182 [00:12<00:00, 14.11it/s]\n"
          ]
        },
        {
          "name": "stdout",
          "output_type": "stream",
          "text": [
            "Epoch 8/10, Train Loss: 0.6397, Val Loss: 0.7519\n"
          ]
        },
        {
          "name": "stderr",
          "output_type": "stream",
          "text": [
            "Epoch 9/10 [Train]: 100%|██████████| 365/365 [00:48<00:00,  7.47it/s]\n",
            "Epoch 9/10 [Validate]: 100%|██████████| 182/182 [00:12<00:00, 14.12it/s]\n"
          ]
        },
        {
          "name": "stdout",
          "output_type": "stream",
          "text": [
            "Epoch 9/10, Train Loss: 0.6251, Val Loss: 0.7839\n"
          ]
        },
        {
          "name": "stderr",
          "output_type": "stream",
          "text": [
            "Epoch 10/10 [Train]: 100%|██████████| 365/365 [00:48<00:00,  7.55it/s]\n",
            "Epoch 10/10 [Validate]: 100%|██████████| 182/182 [00:11<00:00, 16.37it/s]\n"
          ]
        },
        {
          "name": "stdout",
          "output_type": "stream",
          "text": [
            "Epoch 10/10, Train Loss: 0.5951, Val Loss: 0.7554\n"
          ]
        },
        {
          "name": "stderr",
          "output_type": "stream",
          "text": [
            "Testing: 100%|██████████| 183/183 [03:47<00:00,  1.24s/it]\n",
            "c:\\Users\\chbha\\anaconda3\\Lib\\site-packages\\sklearn\\metrics\\_classification.py:1531: UndefinedMetricWarning: Precision is ill-defined and being set to 0.0 in labels with no predicted samples. Use `zero_division` parameter to control this behavior.\n",
            "  _warn_prf(average, modifier, f\"{metric.capitalize()} is\", len(result))\n"
          ]
        },
        {
          "name": "stdout",
          "output_type": "stream",
          "text": [
            "Metrics: {'Pixel Accuracy': 0.7673565279723571, 'Mean IoU': 0.23651630878281393, 'F1 Score': 0.3242306218827598, 'Dice Score': {'Class 0': 0.5031196016664973, 'Class 1': 1.0, 'Class 2': 1.0, 'Class 3': 1.0, 'Class 4': 1.0, 'Class 5': 1.0, 'Class 6': 1.0, 'Class 7': 1.0, 'Class 8': 1.0, 'Class 9': 1.0, 'Class 10': 1.0, 'Class 11': 1.0, 'Class 12': 1.0, 'Class 13': 1.0, 'Class 14': 1.0, 'Class 15': 0.493843797856049, 'Class 16': 1.0, 'Class 17': 1.0, 'Class 18': 1.0, 'Class 19': 1.0, 'Class 20': 1.0, 'Mean Dice Score': 0.9522363523582165}, 'Loss': 0.7503207705385698}\n"
          ]
        }
      ],
      "source": [
        "learning_rates = [1e-4, 1e-3]\n",
        "batch_sizes = [16, 32]\n",
        "\n",
        "vgg_results = hyperparameter_tuning(train_loader, val_loader, test_loader, vgg_segnet_fn, criterion, learning_rates, batch_sizes,num_epochs=10, device=device)\n",
        "efficientnet_results = hyperparameter_tuning(train_loader, val_loader, test_loader, efficientnet_segnet_fn, criterion, learning_rates, batch_sizes, num_epochs=10, device=device)\n"
      ]
    },
    {
      "cell_type": "code",
      "execution_count": null,
      "metadata": {
        "id": "2EPUN-74yhEn",
        "outputId": "87d647a0-a744-4a89-d133-ad415b5dd916"
      },
      "outputs": [
        {
          "name": "stdout",
          "output_type": "stream",
          "text": [
            "\n",
            "VGG Results:\n",
            "Params: (0.0001, 16), Metrics: {'Pixel Accuracy': 0.7557007530214955, 'Mean IoU': 0.19436709684253753, 'F1 Score': 0.21802269836761703, 'Dice Score': {'Class 0': 0.5051040318770924, 'Class 1': 1.0, 'Class 2': 1.0, 'Class 3': 1.0, 'Class 4': 1.0, 'Class 5': 1.0, 'Class 6': 0.0, 'Class 7': 0.0, 'Class 8': 0.0, 'Class 9': 1.0, 'Class 10': 1.0, 'Class 11': 1.0, 'Class 12': 1.0, 'Class 13': 1.0, 'Class 14': 1.0, 'Class 15': 0.4958462492250465, 'Class 16': 1.0, 'Class 17': 1.0, 'Class 18': 1.0, 'Class 19': 1.0, 'Class 20': 1.0, 'Mean Dice Score': 0.8095690610048637}, 'Loss': 0.8336032366817766}\n",
            "Params: (0.0001, 32), Metrics: {'Pixel Accuracy': 0.758770208102452, 'Mean IoU': 0.19243306130057264, 'F1 Score': 0.25343740614579907, 'Dice Score': {'Class 0': 0.4331274849843499, 'Class 1': 1.0, 'Class 2': 1.0, 'Class 3': 1.0, 'Class 4': 1.0, 'Class 5': 1.0, 'Class 6': 1.0, 'Class 7': 1.0, 'Class 8': 1.0, 'Class 9': 1.0, 'Class 10': 1.0, 'Class 11': 1.0, 'Class 12': 1.0, 'Class 13': 1.0, 'Class 14': 1.0, 'Class 15': 0.4735932096824898, 'Class 16': 1.0, 'Class 17': 1.0, 'Class 18': 1.0, 'Class 19': 1.0, 'Class 20': 1.0, 'Mean Dice Score': 0.9479390806984208}, 'Loss': 0.900035826560578}\n",
            "Params: (0.001, 16), Metrics: {'Pixel Accuracy': 0.699561396343886, 'Mean IoU': 0.20826176683038694, 'F1 Score': 0.05431401735413492, 'Dice Score': {'Class 0': 0.5117735558587873, 'Class 1': 1.0, 'Class 2': 1.0, 'Class 3': 1.0, 'Class 4': 1.0, 'Class 5': 1.0, 'Class 6': 1.0, 'Class 7': 1.0, 'Class 8': 1.0, 'Class 9': 1.0, 'Class 10': 1.0, 'Class 11': 1.0, 'Class 12': 1.0, 'Class 13': 1.0, 'Class 14': 1.0, 'Class 15': 0.3383392656882344, 'Class 16': 1.0, 'Class 17': 1.0, 'Class 18': 1.0, 'Class 19': 1.0, 'Class 20': 1.0, 'Mean Dice Score': 0.9452434676927153}, 'Loss': 1.1295253067720132}\n",
            "Params: (0.001, 32), Metrics: {'Pixel Accuracy': 0.7125968639569045, 'Mean IoU': 0.19887574651683765, 'F1 Score': 0.10806598862051651, 'Dice Score': {'Class 0': 0.5688211595726047, 'Class 1': 1.0, 'Class 2': 1.0, 'Class 3': 1.0, 'Class 4': 1.0, 'Class 5': 1.0, 'Class 6': 1.0, 'Class 7': 1.0, 'Class 8': 0.0, 'Class 9': 1.0, 'Class 10': 1.0, 'Class 11': 1.0, 'Class 12': 1.0, 'Class 13': 1.0, 'Class 14': 1.0, 'Class 15': 0.4277991107518189, 'Class 16': 1.0, 'Class 17': 1.0, 'Class 18': 1.0, 'Class 19': 1.0, 'Class 20': 1.0, 'Mean Dice Score': 0.904600965253544}, 'Loss': 1.0492609514564764}\n",
            "\n",
            "EfficientNet Results:\n",
            "Params: (0.0001, 16), Metrics: {'Pixel Accuracy': 0.7565923550196206, 'Mean IoU': 0.23902917822391825, 'F1 Score': 0.22339797744718656, 'Dice Score': {'Class 0': 0.41047944496220357, 'Class 1': 1.0, 'Class 2': 1.0, 'Class 3': 1.0, 'Class 4': 1.0, 'Class 5': 1.0, 'Class 6': 1.0, 'Class 7': 1.0, 'Class 8': 1.0, 'Class 9': 1.0, 'Class 10': 1.0, 'Class 11': 1.0, 'Class 12': 1.0, 'Class 13': 1.0, 'Class 14': 1.0, 'Class 15': 0.4204830143300932, 'Class 16': 1.0, 'Class 17': 1.0, 'Class 18': 1.0, 'Class 19': 1.0, 'Class 20': 1.0, 'Mean Dice Score': 0.9443315456805856}, 'Loss': 0.735386434474278}\n",
            "Params: (0.0001, 32), Metrics: {'Pixel Accuracy': 0.7762037328058784, 'Mean IoU': 0.2448006571242339, 'F1 Score': 0.3231753134204403, 'Dice Score': {'Class 0': 0.3895848054645511, 'Class 1': 1.0, 'Class 2': 1.0, 'Class 3': 1.0, 'Class 4': 1.0, 'Class 5': 1.0, 'Class 6': 1.0, 'Class 7': 1.0, 'Class 8': 1.0, 'Class 9': 1.0, 'Class 10': 1.0, 'Class 11': 1.0, 'Class 12': 1.0, 'Class 13': 1.0, 'Class 14': 1.0, 'Class 15': 0.44006293828551446, 'Class 16': 1.0, 'Class 17': 1.0, 'Class 18': 1.0, 'Class 19': 1.0, 'Class 20': 1.0, 'Mean Dice Score': 0.9442689401785745}, 'Loss': 0.6570152272292173}\n",
            "Params: (0.001, 16), Metrics: {'Pixel Accuracy': 0.747505365811796, 'Mean IoU': 0.22703707688290176, 'F1 Score': 0.22368394628068203, 'Dice Score': {'Class 0': 0.42689407984179956, 'Class 1': 1.0, 'Class 2': 1.0, 'Class 3': 1.0, 'Class 4': 1.0, 'Class 5': 1.0, 'Class 6': 1.0, 'Class 7': 1.0, 'Class 8': 1.0, 'Class 9': 1.0, 'Class 10': 1.0, 'Class 11': 1.0, 'Class 12': 1.0, 'Class 13': 1.0, 'Class 14': 1.0, 'Class 15': 0.43256638594511826, 'Class 16': 1.0, 'Class 17': 1.0, 'Class 18': 1.0, 'Class 19': 1.0, 'Class 20': 1.0, 'Mean Dice Score': 0.9456885936089008}, 'Loss': 0.8298653429323207}\n",
            "Params: (0.001, 32), Metrics: {'Pixel Accuracy': 0.7673565279723571, 'Mean IoU': 0.23651630878281393, 'F1 Score': 0.3242306218827598, 'Dice Score': {'Class 0': 0.5031196016664973, 'Class 1': 1.0, 'Class 2': 1.0, 'Class 3': 1.0, 'Class 4': 1.0, 'Class 5': 1.0, 'Class 6': 1.0, 'Class 7': 1.0, 'Class 8': 1.0, 'Class 9': 1.0, 'Class 10': 1.0, 'Class 11': 1.0, 'Class 12': 1.0, 'Class 13': 1.0, 'Class 14': 1.0, 'Class 15': 0.493843797856049, 'Class 16': 1.0, 'Class 17': 1.0, 'Class 18': 1.0, 'Class 19': 1.0, 'Class 20': 1.0, 'Mean Dice Score': 0.9522363523582165}, 'Loss': 0.7503207705385698}\n"
          ]
        }
      ],
      "source": [
        "print(\"\\nVGG Results:\")\n",
        "for params, metrics in vgg_results.items():\n",
        "    print(f\"Params: {params}, Metrics: {metrics}\")\n",
        "\n",
        "print(\"\\nEfficientNet Results:\")\n",
        "for params, metrics in efficientnet_results.items():\n",
        "    print(f\"Params: {params}, Metrics: {metrics}\")"
      ]
    }
  ]
}